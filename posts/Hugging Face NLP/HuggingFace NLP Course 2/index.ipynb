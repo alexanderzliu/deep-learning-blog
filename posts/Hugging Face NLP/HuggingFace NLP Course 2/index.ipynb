{
 "cells": [
  {
   "cell_type": "raw",
   "metadata": {},
   "source": [
    "---\n",
    "title: \"Hugging Face NLP II: Tokenization & Batching\"\n",
    "author: \"Alex Liu\"\n",
    "date: \"2023-12-15\"\n",
    "categories:     \n",
    "    - NLP\n",
    "    - Hugging Face\n",
    "    - Course Notes\n",
    "    - Fine Tuning\n",
    "image: \"image.jpg\"\n",
    "jupyter: python3\n",
    "---"
   ]
  },
  {
   "cell_type": "code",
   "execution_count": 6,
   "metadata": {},
   "outputs": [],
   "source": [
    "import torch\n",
    "from torch import Tensor as tensor\n",
    "from transformers import AutoTokenizer, AutoModel, AutoModelForSequenceClassification"
   ]
  },
  {
   "cell_type": "code",
   "execution_count": 3,
   "metadata": {},
   "outputs": [
    {
     "name": "stderr",
     "output_type": "stream",
     "text": [
      "No model was supplied, defaulted to distilbert-base-uncased-finetuned-sst-2-english and revision af0f99b (https://huggingface.co/distilbert-base-uncased-finetuned-sst-2-english).\n",
      "Using a pipeline without specifying a model name and revision in production is not recommended.\n"
     ]
    },
    {
     "data": {
      "application/vnd.jupyter.widget-view+json": {
       "model_id": "ce117e9997754cbca4000e02f480b596",
       "version_major": 2,
       "version_minor": 0
      },
      "text/plain": [
       "config.json:   0%|          | 0.00/629 [00:00<?, ?B/s]"
      ]
     },
     "metadata": {},
     "output_type": "display_data"
    },
    {
     "name": "stderr",
     "output_type": "stream",
     "text": [
      "Traceback (most recent call last):\n",
      "  File \"<string>\", line 1, in <module>\n",
      "ModuleNotFoundError: No module named 'multiprocessing.resource_tracker'\n"
     ]
    },
    {
     "data": {
      "application/vnd.jupyter.widget-view+json": {
       "model_id": "19435f9d9634440f873a0fe614b49911",
       "version_major": 2,
       "version_minor": 0
      },
      "text/plain": [
       "model.safetensors:   0%|          | 0.00/268M [00:00<?, ?B/s]"
      ]
     },
     "metadata": {},
     "output_type": "display_data"
    },
    {
     "data": {
      "application/vnd.jupyter.widget-view+json": {
       "model_id": "33ef787f938b40ed850b9c63a7667ac5",
       "version_major": 2,
       "version_minor": 0
      },
      "text/plain": [
       "tokenizer_config.json:   0%|          | 0.00/48.0 [00:00<?, ?B/s]"
      ]
     },
     "metadata": {},
     "output_type": "display_data"
    },
    {
     "data": {
      "application/vnd.jupyter.widget-view+json": {
       "model_id": "6ecac1e3394b4e71b85a3e32339e34f8",
       "version_major": 2,
       "version_minor": 0
      },
      "text/plain": [
       "vocab.txt:   0%|          | 0.00/232k [00:00<?, ?B/s]"
      ]
     },
     "metadata": {},
     "output_type": "display_data"
    },
    {
     "data": {
      "text/plain": [
       "[{'label': 'POSITIVE', 'score': 0.9598050713539124},\n",
       " {'label': 'NEGATIVE', 'score': 0.9994558691978455}]"
      ]
     },
     "execution_count": 3,
     "metadata": {},
     "output_type": "execute_result"
    }
   ],
   "source": [
    "from transformers import pipeline\n",
    "\n",
    "\n",
    "classifier = pipeline(\"sentiment-analysis\")\n",
    "classifier(\n",
    "    [\n",
    "        \"I've been waiting for a HuggingFace course my whole life.\",\n",
    "        \"I hate this so much!\",\n",
    "    ]\n",
    ")"
   ]
  },
  {
   "attachments": {},
   "cell_type": "markdown",
   "metadata": {},
   "source": [
    "We'll need to convert our input text to something our transformer model can use. To do this we'll use a tokenizer.\n",
    "\n",
    "The 'tokenizer' will *tokenize* words, that is split them up into chunks like words, subwords or punctuation. Then it'll map each of these tokens to an integer, and add some additional some into the integerized, tokenized string, like an start and stop indicator.  "
   ]
  },
  {
   "cell_type": "code",
   "execution_count": 4,
   "metadata": {},
   "outputs": [],
   "source": [
    "\n",
    "checkpoint = \"distilbert-base-uncased-finetuned-sst-2-english\"\n",
    "tokenizer = AutoTokenizer.from_pretrained(checkpoint)"
   ]
  },
  {
   "cell_type": "code",
   "execution_count": 5,
   "metadata": {},
   "outputs": [
    {
     "name": "stdout",
     "output_type": "stream",
     "text": [
      "{'input_ids': tensor([[  101,  1045,  1005,  2310,  2042,  3403,  2005,  1037, 17662, 12172,\n",
      "          2607,  2026,  2878,  2166,  1012,   102],\n",
      "        [  101,  1045,  5223,  2023,  2061,  2172,   999,   102,     0,     0,\n",
      "             0,     0,     0,     0,     0,     0]]), 'attention_mask': tensor([[1, 1, 1, 1, 1, 1, 1, 1, 1, 1, 1, 1, 1, 1, 1, 1],\n",
      "        [1, 1, 1, 1, 1, 1, 1, 1, 0, 0, 0, 0, 0, 0, 0, 0]])}\n"
     ]
    }
   ],
   "source": [
    "raw_inputs = [\n",
    "    \"I've been waiting for a HuggingFace course my whole life.\",\n",
    "    \"I hate this so much!\",\n",
    "]\n",
    "inputs = tokenizer(raw_inputs, padding=True, truncation=True, return_tensors=\"pt\")\n",
    "print(inputs)"
   ]
  },
  {
   "attachments": {},
   "cell_type": "markdown",
   "metadata": {},
   "source": [
    "We can see the list of integers that represent the tokens that comprise our inputs (one tensor of integers for each sentence). "
   ]
  },
  {
   "cell_type": "code",
   "execution_count": null,
   "metadata": {},
   "outputs": [],
   "source": [
    "from transformers import AutoModel\n",
    "\n",
    "checkpoint = \"distilbert-base-uncased-finetuned-sst-2-english\"\n",
    "model = AutoModel.from_pretrained(checkpoint)\n",
    "\n",
    "outputs = model(**inputs)\n",
    "print(outputs.last_hidden_state.shape)"
   ]
  },
  {
   "attachments": {},
   "cell_type": "markdown",
   "metadata": {},
   "source": [
    "Our output has three dimensions\n",
    "1. Batch size - the number of sequences processed at a time\n",
    "2. Sequence length - Length of the numerical representation of the sequence i.e. how many tokens our input ends up being\n",
    "3. Hidden size - The vector dimension of each input token. Basically, we'll use a vector with elements equal to our hidden size to represent our tokens numerically, which will allow the model to do mathematical operations on it, thus 'work' with natural language. "
   ]
  },
  {
   "cell_type": "code",
   "execution_count": null,
   "metadata": {},
   "outputs": [],
   "source": [
    "from transformers import AutoModelForSequenceClassification\n",
    "import torch\n",
    "\n",
    "\n",
    "checkpoint = \"distilbert-base-uncased-finetuned-sst-2-english\"\n",
    "model = AutoModelForSequenceClassification.from_pretrained(checkpoint)\n",
    "outputs = model(**inputs)\n",
    "predictions = torch.nn.functional.softmax(outputs.logits, dim=-1)\n",
    "print(predictions)"
   ]
  },
  {
   "attachments": {},
   "cell_type": "markdown",
   "metadata": {},
   "source": [
    "Using a specialized model for sequence classificaiton, give us an 2x2 output, one for each sequence, and for each of our sentiment categories (positive and negative).\n",
    "\n",
    "We'll need to put the logits (raw, unnormalized output of last layer) through a softmax layer to turn them into a probability of our input falling into the output categories we have, but after we do that, we can see the chance of our input having negative or positive sentiment. "
   ]
  },
  {
   "cell_type": "code",
   "execution_count": null,
   "metadata": {},
   "outputs": [],
   "source": [
    "from transformers import BertConfig, BertModel\n",
    "\n",
    "# Building the config\n",
    "config = BertConfig()\n",
    "\n",
    "# Building the model from the config\n",
    "model = BertModel(config)"
   ]
  },
  {
   "attachments": {},
   "cell_type": "markdown",
   "metadata": {},
   "source": [
    "We can use a Configuration object which contains a set of predetermined hyperparameters to instantiate our Model object. After that it will be initatilized with random weights. \n",
    "\n",
    "At this point, we would train our model. This would require a non-trivial amount of resources, so we can instead use a pretrained model with the from_pretrained() method, passing in our checkpoint of choice."
   ]
  },
  {
   "cell_type": "code",
   "execution_count": null,
   "metadata": {},
   "outputs": [],
   "source": [
    "from transformers import BertModel\n",
    "\n",
    "model = BertModel.from_pretrained(\"bert-base-cased\")\n",
    "\n",
    "model.save_pretrained(\"directory_on_my_computer\")"
   ]
  },
  {
   "attachments": {},
   "cell_type": "markdown",
   "metadata": {},
   "source": [
    "We'll save the model, passing in the directory we want to save it in. This will put two files in this directory, a .json, with the model's architecture (the hyperparameters it's configured with). We'll also get a .bin that contains the weights of the model. "
   ]
  },
  {
   "attachments": {},
   "cell_type": "markdown",
   "metadata": {},
   "source": [
    "## Tokenizers\n",
    "\n",
    "We need to convert our input string to numbers for the model to understand it. This is done by converting our input into tokens, which are partitions of our input that we have a few ways of implementing. These tokens each have a numerical ID, which will each be represented by our 'hidden size'-sized vector for our model to ingest. \n",
    "\n",
    "3 of the most popular approaches to tokenization are word, subword, and character based.\n",
    "\n",
    "Word - each word is itself a token. The input is split on either spaces or punctuation. Since each word is a token, our vocabulary (the total set of tokens we have IDs for) must be large to account for all of the different words that might be in our input. Since each of these will then be represented by a vector that might be hundreds of numbers long, the model's representation of an input could becoming overwhelmingly large quickly. Additionally, we'll have an \"UNKNOWN\" token ID, assigned to every word that isn't in our vocabulary. So we might also lose a lot of information if our vocabulary isn't sufficiently comprehensive. \n",
    "\n",
    "Character - All characters (like letters) in a language become a token. Usually results in a smaller necessary vocabulary (although character-based languages like Chinese can still have large vocabularies). Issues arise since characters hold less semantic information than words. Additionally, this approach translates to longer token ID strings compared to word-based tokenization, introducing limitations to the length of sequences that can be processed.\n",
    "\n",
    "Subword - A balance between character and word based tokenization. Complex words can be split into meaningful components as necessary, like how the -s or -es suffix indicates plurality in English, while common words can be efficiently represented with a single token ID. Because words are split up, we also have a special token indicating the start of new words. "
   ]
  },
  {
   "cell_type": "code",
   "execution_count": 22,
   "metadata": {},
   "outputs": [
    {
     "data": {
      "application/vnd.jupyter.widget-view+json": {
       "model_id": "b29bb53616214c19b983aab2f5ef7894",
       "version_major": 2,
       "version_minor": 0
      },
      "text/plain": [
       "tokenizer_config.json:   0%|          | 0.00/29.0 [00:00<?, ?B/s]"
      ]
     },
     "metadata": {},
     "output_type": "display_data"
    },
    {
     "data": {
      "application/vnd.jupyter.widget-view+json": {
       "model_id": "7d22db1b6ca54013bfb314186046017d",
       "version_major": 2,
       "version_minor": 0
      },
      "text/plain": [
       "config.json:   0%|          | 0.00/570 [00:00<?, ?B/s]"
      ]
     },
     "metadata": {},
     "output_type": "display_data"
    },
    {
     "name": "stderr",
     "output_type": "stream",
     "text": [
      "Traceback (most recent call last):\n",
      "  File \"<string>\", line 1, in <module>\n",
      "ModuleNotFoundError: No module named 'multiprocessing.resource_tracker'\n"
     ]
    },
    {
     "data": {
      "application/vnd.jupyter.widget-view+json": {
       "model_id": "54ffbe71508144d78621548e37e67770",
       "version_major": 2,
       "version_minor": 0
      },
      "text/plain": [
       "vocab.txt:   0%|          | 0.00/213k [00:00<?, ?B/s]"
      ]
     },
     "metadata": {},
     "output_type": "display_data"
    },
    {
     "data": {
      "application/vnd.jupyter.widget-view+json": {
       "model_id": "a305c7e74016463d839419592e8c44b0",
       "version_major": 2,
       "version_minor": 0
      },
      "text/plain": [
       "tokenizer.json:   0%|          | 0.00/436k [00:00<?, ?B/s]"
      ]
     },
     "metadata": {},
     "output_type": "display_data"
    }
   ],
   "source": [
    "from transformers import AutoTokenizer, AutoModelForSequenceClassification\n",
    "\n",
    "tokenizer = AutoTokenizer.from_pretrained(\"bert-base-cased\")\n",
    "\n",
    "#tokenizer.save_pretrained(\"directory_on_my_computer\")"
   ]
  },
  {
   "attachments": {},
   "cell_type": "markdown",
   "metadata": {},
   "source": [
    "Using tokenizers is essentially the same as using other pretrained models. We'll load the one we want based on chosen checkpoint. This will load the algorithm (character/subword/word) used by the tokenizer, and it's vocabulary (the dictionary of tokens and their asscociated IDs)\n",
    "\n",
    "Saving a tokenizer is also identical to models. "
   ]
  },
  {
   "cell_type": "code",
   "execution_count": null,
   "metadata": {},
   "outputs": [],
   "source": [
    "tokenizer(\"Using a Transformer network is simple\")"
   ]
  },
  {
   "attachments": {},
   "cell_type": "markdown",
   "metadata": {},
   "source": [
    "We see the IDs of the tokens in our input string (we'll talk about the other outputs - token_type_ids/attention_mask later). \n",
    "\n",
    "This translation from text to numbers is called 'encoding' and consists of 2 parts: \n",
    "\n",
    "1. Tokenization - Splitting up our input string into tokens based on our tokenization algorithm \n",
    "2. Conversion - Taking those tokens and creating a sequence of those token's IDs as defined by our vocabulary. \n",
    "\n",
    "As a note: To use a model, we'll need to tokenize any input string in the same way that was used in the initial training of that model. "
   ]
  },
  {
   "cell_type": "code",
   "execution_count": null,
   "metadata": {},
   "outputs": [],
   "source": [
    "decoded_string = tokenizer.decode([7993, 170, 11303, 1200, 2443, 1110, 3014])"
   ]
  },
  {
   "attachments": {},
   "cell_type": "markdown",
   "metadata": {},
   "source": [
    "This process can also be reversed through decoding, translating our token ID sequence back to the string it was derived from. "
   ]
  },
  {
   "attachments": {},
   "cell_type": "markdown",
   "metadata": {},
   "source": [
    "## Handling Longer Inputs with Batching\n",
    "\n",
    "Our models expect a tensor of IDs as input. Since tensors are rectangular, we need to find a way to account for different lengthed sequences. \n",
    "\n",
    "We'll do this by padding. We pad the end of the shorter sequence with a token ID that we can find using tokenizer.pad_token_id until it's the same length as the longest sequence. \n",
    "\n",
    "This will disrupt our attention mechanism, since these padding tokens are improperly contributing to the context in which the other words are interpreted by the model. \n",
    "\n",
    "To solve this problem, we'll pass in an attention_mask argument during our inference. This is another tensor of the same shape as our input sequence, comprising of 1s and 0s. Token IDs that should be attended to by our model will have a 1 in the corresponding spot in our attention mask. Token IDs that should be ignored have a 0 (all our padding tokens will have a 0). "
   ]
  },
  {
   "cell_type": "code",
   "execution_count": 17,
   "metadata": {},
   "outputs": [
    {
     "name": "stdout",
     "output_type": "stream",
     "text": [
      "W/ batching and attention maskign:SequenceClassifierOutput(loss=None, logits=tensor([[-2.7276,  2.8789],\n",
      "        [ 3.1931, -2.6685]], grad_fn=<AddmmBackward0>), hidden_states=None, attentions=None)\n",
      "Passing in those sequences separately: SequenceClassifierOutput(loss=None, logits=tensor([[-2.7276,  2.8789]], grad_fn=<AddmmBackward0>), hidden_states=None, attentions=None) and SequenceClassifierOutput(loss=None, logits=tensor([[ 3.1931, -2.6685]], grad_fn=<AddmmBackward0>), hidden_states=None, attentions=None)\n"
     ]
    }
   ],
   "source": [
    "checkpoint = \"distilbert-base-uncased-finetuned-sst-2-english\"\n",
    "tokenizer = AutoTokenizer.from_pretrained(checkpoint)\n",
    "model = AutoModelForSequenceClassification.from_pretrained(checkpoint)\n",
    "\n",
    "seq1= \"I've been waiting for a HuggingFace course my whole life.\"\n",
    "seq2= \"I hate this so much!\"\n",
    "\n",
    "#seqs = [\"I've been waiting for a HuggingFace course my whole life.\", \"I hate this so much!\",]\n",
    "\n",
    "#ids = tokenizer.convert_tokens_to_ids(tokenizer.tokenize(seqs))\n",
    "\n",
    "ids1 = tokenizer.convert_tokens_to_ids(tokenizer.tokenize(seq1))\n",
    "ids2 = tokenizer.convert_tokens_to_ids(tokenizer.tokenize(seq2))\n",
    "\n",
    "pad_id = tokenizer.pad_token_id\n",
    "\n",
    "batched_ids = [\n",
    "[1045, 1005, 2310, 2042, 3403, 2005, 1037, 17662, 12172, 2607, 2026, 2878, 2166, 1012],\n",
    "[1045, 5223, 2023, 2061, 2172, 999, pad_id, pad_id, pad_id, pad_id, pad_id, pad_id, pad_id, pad_id]\n",
    "]\n",
    "\n",
    "mask1 = [1 if i != 0 else 0 for i in batched_ids[0]]\n",
    "mask2 = [1 if i != 0 else 0 for i in batched_ids[1]]\n",
    "\n",
    "attention_mask = [mask1, mask2]\n",
    "\n",
    "outputs = model(torch.tensor(batched_ids), attention_mask=torch.tensor(attention_mask))\n",
    "output1 = model(torch.tensor([ids1]))\n",
    "output2 = model(torch.tensor([ids2]))\n",
    "print(f'W/ batching and attention maskign:{outputs}')\n",
    "print(f'Passing in those sequences separately: {output1} and {output2}')\n",
    "#ids\n"
   ]
  },
  {
   "attachments": {},
   "cell_type": "markdown",
   "metadata": {},
   "source": [
    "We can see that the output of our model is identical when we properly pad and use the attention mask. \n",
    "\n",
    "We might run into another problem where are sequences are too long for the model. In this case we either have to switch to a model that accepts longer input sequences or truncate (cut off) our sequence. "
   ]
  },
  {
   "cell_type": "code",
   "execution_count": 21,
   "metadata": {},
   "outputs": [],
   "source": [
    "sequences = [\"I've been waiting for a HuggingFace course my whole life.\", \"So have I!\"]\n",
    "\n",
    "tokens = tokenizer(sequences, padding=True, truncation=True, return_tensors=\"pt\")\n",
    "output = model(**tokens)"
   ]
  },
  {
   "attachments": {},
   "cell_type": "markdown",
   "metadata": {},
   "source": [
    "We can just call the tokenizer directly on our input sequence by passing it in as a argument to our model, along with some other parameters that handle behavior related to truncation, padding, and the type of tensor returned. "
   ]
  }
 ],
 "metadata": {
  "kernelspec": {
   "display_name": ".venv-dlb",
   "language": "python",
   "name": "python3"
  },
  "language_info": {
   "codemirror_mode": {
    "name": "ipython",
    "version": 3
   },
   "file_extension": ".py",
   "mimetype": "text/x-python",
   "name": "python",
   "nbconvert_exporter": "python",
   "pygments_lexer": "ipython3",
   "version": "3.11.5"
  },
  "orig_nbformat": 4
 },
 "nbformat": 4,
 "nbformat_minor": 2
}
