{
  "cells": [
    {
      "cell_type": "raw",
      "id": "228f498d",
      "metadata": {},
      "source": [
        "---\n",
        "title: 'Tabular Modeling'\n",
        "author: Alex Liu\n",
        "date: '2023-11-01'\n",
        "categories:\n",
        "  - fast.ai\n",
        "  - Neural Networks\n",
        "  - Random Forests\n",
        "  - Gradient Boosting\n",
        "  - Bagging\n",
        "  - Tabular Data\n",
        "image: image.jpg\n",
        "---"
      ]
    },
    {
      "cell_type": "markdown",
      "id": "e6aa9e5a",
      "metadata": {},
      "source": [
        "In this lesson we'll be exploring methods of tabular modeling. Tabular data is represented in a table i.e a spreadsheet with columns and rows. Our goal is to use the data in our columns to predict the value of another column. \n"
      ]
    },
    {
      "cell_type": "code",
      "execution_count": 71,
      "id": "23729c0e",
      "metadata": {},
      "outputs": [],
      "source": [
        "%matplotlib inline\n",
        "\n",
        "\n",
        "\n",
        "#import sys\n",
        "#!{sys.executable} -m pip3 install fastbook kaggle waterfallcharts treeinterpreter dtreeviz\n",
        "\n",
        "import fastbook\n",
        "fastbook.setup_book()\n",
        "\n",
        "\n",
        "from fastbook import *\n",
        "from pandas.api.types import is_string_dtype, is_numeric_dtype, is_categorical_dtype\n",
        "from fastai.tabular.all import *\n",
        "from sklearn.ensemble import RandomForestRegressor\n",
        "from sklearn.tree import DecisionTreeRegressor\n",
        "from dtreeviz.trees import *\n",
        "from IPython.display import Image, display_svg, SVG\n",
        "from treeinterpreter import treeinterpreter as ti\n",
        "from waterfall import *\n",
        "\n",
        "pd.options.display.max_rows = 20\n",
        "pd.options.display.max_columns = 8"
      ]
    },
    {
      "cell_type": "markdown",
      "id": "194e0991",
      "metadata": {},
      "source": [
        "Some information before we start:\n",
        "\n",
        "Continous variable - Data that can be represented numerically that can be mathematically operated on. We can feed these into our models directly because the mathematical operations we'll do in our model (multiplication, addition, etc.) will make sense straight away.\n",
        "\n",
        "Categorical variable - Variables that take on a variety of discrete values. These need to be converted to a number before we can use them as input in our model. \n",
        "\n",
        "In our recent excercises we've just been training neural networks to solve every problem we've had. \n",
        "\n",
        "hewwo, its bubu speaking now. you have 8 days to live. you can extend this time by buying bubu a thai iced tea. >-<\n",
        "\n",
        "This hasn't been because neural networks are the magical solution to all our problems, although I desperately wish this were the case. It would be so nice if deep learning could fight my demons for me. \n",
        "\n",
        "Rather, it's because their flexibility allows them to excel at handling problems related to the unstructured data we've been workign with so far - images, audio, and text. \n",
        "\n",
        "When it comes to the structured, tabular data we'll be working with here, we'll make use of decision trees and gradient boosting machines. Simpler, but equally effective modeling techniques.\n",
        "\n",
        "Decision trees will be our tool of choice for tabular data for a number of reasons. They're typically faster and easier to train, requiring less specialized GPU hardware and hyperparameter tuning than neural networks. Libraries that implement decisions trees also have tools and methods for interpreting these models, such as visualizing which columns were the most important factors in making a prediction. \n",
        "\n",
        "Note: there are some instances where a neural network would be better for tabular data - like if one of the columns is unstructured data like a string of text.\n",
        "\n",
        "Yay, I'm now so excited to use decision trees. In fact why don't I use one to model this feeling. It'll try to predict if I am excited at any given moment or not. The condition it'll split on is \"are decision trees involved\" and it'll predict \"Yes\" if so, and \"No\" if not. Amazing, we already have an 100% accurate model.\n"
      ]
    },
    {
      "cell_type": "code",
      "execution_count": 23,
      "id": "596e5f7b",
      "metadata": {},
      "outputs": [
        {
          "data": {
            "text/plain": [
              "(#7) [Path('random_forest_benchmark_test.csv'),Path('Valid.csv'),Path('median_benchmark.csv'),Path('Test.csv'),Path('ValidSolution.csv'),Path('Machine_Appendix.csv'),Path('TrainAndValid.csv')]"
            ]
          },
          "execution_count": 23,
          "metadata": {},
          "output_type": "execute_result"
        }
      ],
      "source": [
        "creds = '{\"username\":\"alexanderzliu\",\"key\":\"59b8c0e913b2beb56e71628b918cba51\"}'\n",
        "\n",
        "cred_path = Path('~/.kaggle/kaggle.json').expanduser()\n",
        "if not cred_path.exists():\n",
        "    cred_path.parent.mkdir(exist_ok=True)\n",
        "    cred_path.write_text(creds)\n",
        "    cred_path.chmod(0o600)\n",
        "\n",
        "comp = 'bluebook-for-bulldozers'\n",
        "path = URLs.path(comp)\n",
        "path\n",
        "\n",
        "Path.BASE_PATH = path\n",
        "\n",
        "from kaggle import api\n",
        "\n",
        "if not path.exists():\n",
        "    path.mkdir(parents=true)\n",
        "    api.competition_download_cli(comp, path=path)\n",
        "    shutil.unpack_archive(str(path/f'{comp}.zip'), str(path))\n",
        "\n",
        "path.ls(file_type='text')"
      ]
    },
    {
      "cell_type": "markdown",
      "id": "8168a1a1",
      "metadata": {},
      "source": [
        "After setting up our data we'll read it in and look at some of the columns. Seems like there's a lot of columns for us to parse through\n"
      ]
    },
    {
      "cell_type": "code",
      "execution_count": 24,
      "id": "a999f24f",
      "metadata": {},
      "outputs": [
        {
          "data": {
            "text/plain": [
              "Index(['SalesID', 'SalePrice', 'MachineID', 'ModelID', 'datasource',\n",
              "       'auctioneerID', 'YearMade', 'MachineHoursCurrentMeter', 'UsageBand',\n",
              "       'saledate', 'fiModelDesc', 'fiBaseModel', 'fiSecondaryDesc',\n",
              "       'fiModelSeries', 'fiModelDescriptor', 'ProductSize',\n",
              "       'fiProductClassDesc', 'state', 'ProductGroup', 'ProductGroupDesc',\n",
              "       'Drive_System', 'Enclosure', 'Forks', 'Pad_Type', 'Ride_Control',\n",
              "       'Stick', 'Transmission', 'Turbocharged', 'Blade_Extension',\n",
              "       'Blade_Width', 'Enclosure_Type', 'Engine_Horsepower', 'Hydraulics',\n",
              "       'Pushblock', 'Ripper', 'Scarifier', 'Tip_Control', 'Tire_Size',\n",
              "       'Coupler', 'Coupler_System', 'Grouser_Tracks', 'Hydraulics_Flow',\n",
              "       'Track_Type', 'Undercarriage_Pad_Width', 'Stick_Length', 'Thumb',\n",
              "       'Pattern_Changer', 'Grouser_Type', 'Backhoe_Mounting', 'Blade_Type',\n",
              "       'Travel_Controls', 'Differential_Type', 'Steering_Controls'],\n",
              "      dtype='object')"
            ]
          },
          "execution_count": 24,
          "metadata": {},
          "output_type": "execute_result"
        }
      ],
      "source": [
        "df = pd.read_csv(path/'TrainAndValid.csv', low_memory=False)\n",
        "df.columns"
      ]
    },
    {
      "cell_type": "markdown",
      "id": "974c988a",
      "metadata": {},
      "source": [
        "Let's take care of an 'ordinal' column. This is kinda a middle point between our categorical and continous variables where it means our variable is categorical, but the categories have a natural ordering. \n",
        "\n",
        "We'll make our 'ProductSize' column values take on the type 'category'. Then we can pass in a list of those categories with a specific order, setting the 'ordered' parameter to True. \n"
      ]
    },
    {
      "cell_type": "code",
      "execution_count": 25,
      "id": "f87fb98f",
      "metadata": {},
      "outputs": [
        {
          "name": "stdout",
          "output_type": "stream",
          "text": [
            "Product Size levels: [nan 'Medium' 'Small' 'Large / Medium' 'Mini' 'Large' 'Compact']\n"
          ]
        },
        {
          "data": {
            "text/plain": [
              "0            NaN\n",
              "1         Medium\n",
              "2            NaN\n",
              "3          Small\n",
              "4            NaN\n",
              "           ...  \n",
              "412693      Mini\n",
              "412694      Mini\n",
              "412695      Mini\n",
              "412696      Mini\n",
              "412697      Mini\n",
              "Name: ProductSize, Length: 412698, dtype: category\n",
              "Categories (6, object): ['Large' < 'Large / Medium' < 'Medium' < 'Small' < 'Mini' < 'Compact']"
            ]
          },
          "execution_count": 25,
          "metadata": {},
          "output_type": "execute_result"
        }
      ],
      "source": [
        "print(f\"Product Size levels: {df['ProductSize'].unique()}\")\n",
        "sizes = 'Large','Large / Medium','Medium','Small','Mini','Compact'\n",
        "df['ProductSize'] = df['ProductSize'].astype('category')\n",
        "df['ProductSize'].cat.set_categories(sizes, ordered=True)"
      ]
    },
    {
      "cell_type": "markdown",
      "id": "84fbcbb3",
      "metadata": {},
      "source": [
        "The Kaggle competition asks uses to use the root mean squared log error (RMSLE) between actual and predicted auction prices as our metric - our statistic informing us of how well our model is performing. Roots, logs and trees; data scientists can't get enough of plants.\n",
        "\n",
        "We'll take the log of our dependent variable now , the SalePrice, so that we can just use RMSE operations in the future to get our RMSLE.\n"
      ]
    },
    {
      "cell_type": "code",
      "execution_count": 26,
      "id": "5865cd13",
      "metadata": {},
      "outputs": [],
      "source": [
        "dep_var = 'SalePrice'\n",
        "df[dep_var] = np.log(df[dep_var])"
      ]
    },
    {
      "cell_type": "markdown",
      "id": "625d5290",
      "metadata": {},
      "source": [
        "Below is an illustration of a decision tree. Who knew such a messed-up looking conifer could be so powerful. \n",
        "\n",
        "The tree asks a series of binary (yes/no) questions about the data. After each question, the data is split on branching yes/no paths. Eventually, the bottom of the tree (a leaf node) is reached, where that node will have a prediction for data point, which depends on the answers that led to that particular leaf node. \n",
        "\n",
        "In this example, we first answer a question about age. This leads to questions about either our diet or excercise habits, depending on our first answer. Then depending on this next answer, we're either labeled fit or unfit.\n",
        "\n",
        "You're all probably well aware of the category I fall into. As a super sexy data scientist, I am a indeed a fit model that fits models. \n",
        "\n",
        "![Decision Tree](decision_tree.PNG)\n",
        "\n",
        "Outside this toy example, our challenge will be to come up with this series of questions that will split our data into as distinct categories as possible, so that predictions we make are accurate because the conditions we split the data do a good job at discerning it from the other categories of our dependent variable. \n",
        "\n",
        "This is how we'll approach the construction process: \n",
        "\n",
        "1. Loop through each column of the dataset \n",
        "2. For each column, loop through each possible levels (values or categories) of that column\n",
        "3. Try splitting the data into two groups, based on whether they are greater than or less than that level if it is continous, or if it is a categorical variable, based on whether they are equal to or not equal to that level of that categorical variable.\n",
        "4. Find the average sale price for each of those two groups, and see how close that is to the actual sale price of each of the items of equipment in that group. We'll essentially create a very simple mini-model where our predictions will be the average sale price of the items that fall into our two groups after splitting. \n",
        "5. After looping through all columns and possible levels for each, pick the split point that gave the best predictions using that simple model.\n",
        "6. We now have two different groups for our data, based on this selected split. Treat each of these as separate datasets, repeat steps 1 - 5 for these new datasets.\n",
        "7. Continue this process recursively, until you have reached some stopping criterion for each group, e.g. stop splitting a group further when it has only a certain number of items in it.\n",
        "\n",
        "\n",
        "\n",
        "Let's talk about handling dates. Dates are interesting because they contain a lot of both continuous and categorical data. For example - they tell us how far away another target date is, but also what day of the week, month of the year, or even day of the year (like for important holidays) it is. \n",
        "\n",
        "We want to parse out all the data contained in our date, and will use a fastai function to do so - .add_datapart(), by passing in our data column in our train and test sets.\n"
      ]
    },
    {
      "cell_type": "code",
      "execution_count": 27,
      "id": "6b36ebbd",
      "metadata": {},
      "outputs": [
        {
          "name": "stderr",
          "output_type": "stream",
          "text": [
            "/Users/alexander/anaconda3/envs/.venv-dlb/lib/python3.11/site-packages/fastai/tabular/core.py:23: UserWarning: The argument 'infer_datetime_format' is deprecated and will be removed in a future version. A strict version of it is now the default, see https://pandas.pydata.org/pdeps/0004-consistent-to-datetime-parsing.html. You can safely remove this argument.\n",
            "/Users/alexander/anaconda3/envs/.venv-dlb/lib/python3.11/site-packages/fastai/tabular/core.py:23: UserWarning: The argument 'infer_datetime_format' is deprecated and will be removed in a future version. A strict version of it is now the default, see https://pandas.pydata.org/pdeps/0004-consistent-to-datetime-parsing.html. You can safely remove this argument.\n"
          ]
        },
        {
          "data": {
            "text/plain": [
              "'saleYear saleMonth saleWeek saleDay saleDayofweek saleDayofyear saleIs_month_end saleIs_month_start saleIs_quarter_end saleIs_quarter_start saleIs_year_end saleIs_year_start saleElapsed'"
            ]
          },
          "execution_count": 27,
          "metadata": {},
          "output_type": "execute_result"
        }
      ],
      "source": [
        "df = add_datepart(df, 'saledate')\n",
        "df_test = pd.read_csv(path/'Test.csv', low_memory=False)\n",
        "df_test = add_datepart(df_test, 'saledate')\n",
        "' '.join(o for o in df.columns if o.startswith('sale'))"
      ]
    },
    {
      "cell_type": "markdown",
      "id": "c6045bb5",
      "metadata": {},
      "source": [
        "Predictions for our test set will be trying to predict the SalePrice for bull dozers sold in the future. To mimic the relationship that the test set will have with the rest of our data (being in the future), we will also separate our training and validation sets in a similar manner. \n",
        "\n",
        "We'll make our our training set data from before October 2011, and validation set comprise of sales after that date, so that we validate our model on data from after our training set, which our test set will also be. \n",
        "\n",
        "Using np.where() we can get the set of row indices that fulfill our date conditions."
      ]
    },
    {
      "cell_type": "code",
      "execution_count": 28,
      "id": "5d984d79",
      "metadata": {},
      "outputs": [],
      "source": [
        "cond = (df.saleYear<2011) | (df.saleMonth<10)\n",
        "train_idx = np.where( cond)[0]\n",
        "valid_idx = np.where(~cond)[0]\n",
        "\n",
        "splits = (list(train_idx),list(valid_idx))"
      ]
    },
    {
      "cell_type": "markdown",
      "id": "bced3b5c",
      "metadata": {},
      "source": [
        "Now let's start processing the rest of our data. We'll make use of the TabularPandas class, which is a wrapper for our dataframe that provides us access to some more convenient functions. \n",
        "\n",
        "We'll need to pass in a few things when creating our TabularPandas object. First the 'procs', which will are data processing operations we want applied. \n",
        "\n",
        "Categorify - turn columns into numerical category columns. \n",
        "FillMissing - fill rows with missing data (na) with the median of that column. \n",
        "\n",
        "Then, the continous and categorical variables, which we'll extract using the cont_cat_split() method. \n",
        "\n",
        "Finally, our y-label/dependent variable and the training/validation splits. \n"
      ]
    },
    {
      "cell_type": "code",
      "execution_count": 29,
      "id": "e8fe6b65",
      "metadata": {},
      "outputs": [],
      "source": [
        "procs = [Categorify, FillMissing]\n",
        "cont,cat = cont_cat_split(df, 1, dep_var=dep_var)\n",
        "to = TabularPandas(df, procs, cat, cont, y_names=dep_var, splits=splits)"
      ]
    },
    {
      "cell_type": "markdown",
      "id": "a62b4b6e",
      "metadata": {},
      "source": [
        "Taking a little bit of ac closer look at the 'Categorify' proc, we can see that the values are still represented as strings when we look at them, which is for our convenience in interpreting the data. \n"
      ]
    },
    {
      "cell_type": "code",
      "execution_count": 30,
      "id": "194c381d",
      "metadata": {},
      "outputs": [
        {
          "data": {
            "text/html": [
              "<table border=\"1\" class=\"dataframe\">\n",
              "  <thead>\n",
              "    <tr style=\"text-align: right;\">\n",
              "      <th></th>\n",
              "      <th>state</th>\n",
              "      <th>ProductGroup</th>\n",
              "      <th>Drive_System</th>\n",
              "      <th>Enclosure</th>\n",
              "      <th>SalePrice</th>\n",
              "    </tr>\n",
              "  </thead>\n",
              "  <tbody>\n",
              "    <tr>\n",
              "      <th>0</th>\n",
              "      <td>Alabama</td>\n",
              "      <td>WL</td>\n",
              "      <td>#na#</td>\n",
              "      <td>EROPS w AC</td>\n",
              "      <td>11.097410</td>\n",
              "    </tr>\n",
              "    <tr>\n",
              "      <th>1</th>\n",
              "      <td>North Carolina</td>\n",
              "      <td>WL</td>\n",
              "      <td>#na#</td>\n",
              "      <td>EROPS w AC</td>\n",
              "      <td>10.950807</td>\n",
              "    </tr>\n",
              "    <tr>\n",
              "      <th>2</th>\n",
              "      <td>New York</td>\n",
              "      <td>SSL</td>\n",
              "      <td>#na#</td>\n",
              "      <td>OROPS</td>\n",
              "      <td>9.210340</td>\n",
              "    </tr>\n",
              "  </tbody>\n",
              "</table>"
            ],
            "text/plain": [
              "<IPython.core.display.HTML object>"
            ]
          },
          "metadata": {},
          "output_type": "display_data"
        }
      ],
      "source": [
        "to1 = TabularPandas(df, procs, ['state', 'ProductGroup', 'Drive_System', 'Enclosure'], [], y_names=dep_var, splits=splits)\n",
        "to1.show(3)"
      ]
    },
    {
      "cell_type": "markdown",
      "id": "fba4aa1b",
      "metadata": {},
      "source": [
        "They're actually just stored as numbers where all of the levels in a column are replaced by numbers. The levels aren't indexed in any particular order, unless they ARE ordered as we saw in the ProductSize category. Otherwise, they're just assigned as unique levels are seen from the top to bottom of the data frame. \n"
      ]
    },
    {
      "cell_type": "code",
      "execution_count": 31,
      "id": "3e973f02",
      "metadata": {},
      "outputs": [
        {
          "data": {
            "text/html": [
              "<div>\n",
              "<style scoped>\n",
              "    .dataframe tbody tr th:only-of-type {\n",
              "        vertical-align: middle;\n",
              "    }\n",
              "\n",
              "    .dataframe tbody tr th {\n",
              "        vertical-align: top;\n",
              "    }\n",
              "\n",
              "    .dataframe thead th {\n",
              "        text-align: right;\n",
              "    }\n",
              "</style>\n",
              "<table border=\"1\" class=\"dataframe\">\n",
              "  <thead>\n",
              "    <tr style=\"text-align: right;\">\n",
              "      <th></th>\n",
              "      <th>state</th>\n",
              "      <th>ProductGroup</th>\n",
              "      <th>Drive_System</th>\n",
              "      <th>Enclosure</th>\n",
              "    </tr>\n",
              "  </thead>\n",
              "  <tbody>\n",
              "    <tr>\n",
              "      <th>0</th>\n",
              "      <td>1</td>\n",
              "      <td>6</td>\n",
              "      <td>0</td>\n",
              "      <td>3</td>\n",
              "    </tr>\n",
              "    <tr>\n",
              "      <th>1</th>\n",
              "      <td>33</td>\n",
              "      <td>6</td>\n",
              "      <td>0</td>\n",
              "      <td>3</td>\n",
              "    </tr>\n",
              "    <tr>\n",
              "      <th>2</th>\n",
              "      <td>32</td>\n",
              "      <td>3</td>\n",
              "      <td>0</td>\n",
              "      <td>6</td>\n",
              "    </tr>\n",
              "  </tbody>\n",
              "</table>\n",
              "</div>"
            ],
            "text/plain": [
              "   state  ProductGroup  Drive_System  Enclosure\n",
              "0      1             6             0          3\n",
              "1     33             6             0          3\n",
              "2     32             3             0          6"
            ]
          },
          "execution_count": 31,
          "metadata": {},
          "output_type": "execute_result"
        }
      ],
      "source": [
        "to1.items[['state', 'ProductGroup', 'Drive_System', 'Enclosure']].head(3)"
      ]
    },
    {
      "cell_type": "markdown",
      "id": "1bd14c1a",
      "metadata": {},
      "source": [
        "With this pre-processing done, let's save our work right now, which will be us pickling our TabularPandas object. YUM I LOVE DILL.\n"
      ]
    },
    {
      "cell_type": "code",
      "execution_count": 32,
      "id": "4e1b5c41",
      "metadata": {},
      "outputs": [],
      "source": [
        "save_pickle(path/'to.pkl',to)"
      ]
    },
    {
      "cell_type": "markdown",
      "id": "0f16ab8a",
      "metadata": {},
      "source": [
        "Okay, lets start to actually create a decision tree. We'll use the .train and .valid attributes from our TabularPandas object to split our dataset.\n"
      ]
    },
    {
      "cell_type": "code",
      "execution_count": 33,
      "id": "03686ef6",
      "metadata": {},
      "outputs": [],
      "source": [
        "to = load_pickle(path/'to.pkl')\n",
        "xs,y = to.train.xs,to.train.y\n",
        "valid_xs,valid_y = to.valid.xs,to.valid.y"
      ]
    },
    {
      "cell_type": "markdown",
      "id": "c8e3e184",
      "metadata": {},
      "source": [
        "Then we'll use the DecisionTreeRegressor class from sklearn (a nice library for non-deep learning machine learning models)\n",
        "\n",
        "We'll pass in an argument for the maximum leaf nodes it should have, fit it (which will be done through the 7-step method done mentioned above) "
      ]
    },
    {
      "cell_type": "code",
      "execution_count": 34,
      "id": "5ec490e5",
      "metadata": {},
      "outputs": [],
      "source": [
        "m = DecisionTreeRegressor(max_leaf_nodes=4)\n",
        "m.fit(xs, y);"
      ]
    },
    {
      "cell_type": "markdown",
      "id": "67472e2b",
      "metadata": {},
      "source": [
        "Here we can take a look at the tree. For each node it tells us the condition and value that it branches on (except for the leaf nodes), the squared error, the number of samples contained in that particular node, and the value, which is the average of the samples dependent variable. \n"
      ]
    },
    {
      "cell_type": "code",
      "execution_count": 35,
      "id": "9f5af8e9",
      "metadata": {},
      "outputs": [],
      "source": [
        "#draw_tree(m, xs, size=10, leaves_parallel=True, precision=2)"
      ]
    },
    {
      "cell_type": "markdown",
      "id": "9c7e39c7",
      "metadata": {},
      "source": [
        "There are some bulldozers that were somehow made in the year 1000, which is cap because dirt wasn't even invented back then. We'll just make the earliest manufacturing year 1950. \n"
      ]
    },
    {
      "cell_type": "code",
      "execution_count": 36,
      "id": "e38e3611",
      "metadata": {},
      "outputs": [],
      "source": [
        "xs.loc[xs['YearMade']<1900, 'YearMade'] = 1950\n",
        "valid_xs.loc[valid_xs['YearMade']<1900, 'YearMade'] = 1950"
      ]
    },
    {
      "cell_type": "markdown",
      "id": "459db2ef",
      "metadata": {},
      "source": [
        "Let's make a new model. It'll be larger because we aren't specifying any stopping points. As a default, it'll create levels until all the leaves are pure - that is, they only have samples from one level of our dependent variable. \n",
        "\n",
        "We'll also create  a funciton for our models root mean squared error. \n"
      ]
    },
    {
      "cell_type": "code",
      "execution_count": 37,
      "id": "1d387157",
      "metadata": {},
      "outputs": [],
      "source": [
        "m = DecisionTreeRegressor()\n",
        "m.fit(xs, y);\n",
        "def r_mse(pred,y): return round(math.sqrt(((pred-y)**2).mean()), 6)\n",
        "def m_rmse(m, xs, y): return r_mse(m.predict(xs), y)"
      ]
    },
    {
      "cell_type": "markdown",
      "id": "89a793b3",
      "metadata": {},
      "source": [
        "A perfect model. JK it is not my bubu (that's my pet name for my girlfriend - I am pandering to her :D). Our error is 0 on the validation set because we've create a huge tree with pure leaf nodes. The validation set's error is quite a bit higher. \n"
      ]
    },
    {
      "cell_type": "code",
      "execution_count": 38,
      "id": "ba6d9834",
      "metadata": {},
      "outputs": [
        {
          "name": "stdout",
          "output_type": "stream",
          "text": [
            "Training set RMSE: 0.0\n",
            "Validation set RMSE: 0.329981\n"
          ]
        }
      ],
      "source": [
        "print(f\"Training set RMSE: {m_rmse(m, xs, y)}\")\n",
        "print(f\"Validation set RMSE: {m_rmse(m, valid_xs, valid_y)}\")"
      ]
    },
    {
      "cell_type": "markdown",
      "id": "b5ec6053",
      "metadata": {},
      "source": [
        "That's cause our model is vastly overfitted. We can see that there are almost as many leaves as samples. This means that our model won't generalize well to unseen data because it's too specific (re: overfitted).  \n"
      ]
    },
    {
      "cell_type": "code",
      "execution_count": 39,
      "id": "9c1d811e",
      "metadata": {},
      "outputs": [
        {
          "data": {
            "text/plain": [
              "(324330, 404710)"
            ]
          },
          "execution_count": 39,
          "metadata": {},
          "output_type": "execute_result"
        }
      ],
      "source": [
        "m.get_n_leaves(), len(xs)"
      ]
    },
    {
      "cell_type": "markdown",
      "id": "aad702c7",
      "metadata": {},
      "source": [
        "Let's fix this overfitting a bit. Now we'll stop our tree creation when there are less than 25 samples in a leaf. This should make it generalize more well. \n",
        "\n",
        "You can think about this as the model not uncovering patterns or relationships between our independent variables and dependent variable (e.g. newer bulldozers having higher sale prices). Instead our model is essentially memorizing the decision path it needs for a specific sample (e.g. This bulldozers sale price is 12. It has a Drive_System of X, Enclosure of Y, state is ...and so on and so forth for all of our independent variables. The tree is going to split on all of these and create a leaf node with a value of 12). \n"
      ]
    },
    {
      "cell_type": "code",
      "execution_count": 40,
      "id": "d2ea574f",
      "metadata": {},
      "outputs": [
        {
          "data": {
            "text/plain": [
              "(0.243051, 0.309041)"
            ]
          },
          "execution_count": 40,
          "metadata": {},
          "output_type": "execute_result"
        }
      ],
      "source": [
        "m = DecisionTreeRegressor(min_samples_leaf=25)\n",
        "m.fit(to.train.xs, to.train.y)\n",
        "m_rmse(m, xs, y), m_rmse(m, valid_xs, valid_y)"
      ]
    },
    {
      "cell_type": "markdown",
      "id": "28521d93",
      "metadata": {},
      "source": [
        "Let's talk about bagging. There are many types of bagging you might be familiar with - sandbagging, carpetbagging, teabagging. But today we're dealing with some pure, unadultered bagging. \n",
        "\n",
        "Bagging is basically getting predictions from a bunch of different models and taking the average of those predictions to use as our prediction. It's a specific 'ensembling' approach, where multiple models are used to get your prediction. Here's how we'll bag:\n",
        "\n",
        "1. Choose a random subset of our data  \n",
        "2. Train a model using this subset \n",
        "3. Repeat steps 1 & 2 a number of times \n",
        "4. Make a prediction with all our models and then take the average of each of those model's predictions to use as our prediction\n",
        "\n",
        "This approach works because by training our models on different sets of the data will produce uncorrelated error for our predictions, which should average out to 0.\n",
        "\n",
        "Random forests is the technique when you bag with decision trees. Specifically, they not only use a random subset of the data for each tree's training, but also choose from a random subset of the columns when deciding each split for the decision trees, essentially enforcing some variety in the splits of the trees.\n",
        "\n",
        "Let's start training a random forest of our own. There are some parameters we should go over here. \n",
        "- n_estimators: The number of decision trees in our random forest \n",
        "- max_samples: the number of samples we should take from our dataset to train each of our decision trees\n",
        "- max_features: The proportion of total columns to potentiallly split on at each level (.5 means we'll consider half of the columns we have to split on at a given level)\n",
        "- min_samples_leaf: minimum number of samples a leaf should have \n",
        "- n_jobs: CPU-related argument; probably don't need to worry about this too much \n"
      ]
    },
    {
      "cell_type": "code",
      "execution_count": 41,
      "id": "c2190f6b",
      "metadata": {},
      "outputs": [],
      "source": [
        "def rf(xs, y, n_estimators=40, max_samples=200_000,\n",
        "       max_features=0.5, min_samples_leaf=5, **kwargs):\n",
        "    return RandomForestRegressor(n_jobs=-1, n_estimators=n_estimators,\n",
        "        max_samples=max_samples, max_features=max_features,\n",
        "        min_samples_leaf=min_samples_leaf, oob_score=True).fit(xs, y)"
      ]
    },
    {
      "cell_type": "markdown",
      "id": "d0e3bdc2",
      "metadata": {},
      "source": [
        "We can see how our error has improved with this random forest as compared to our singular decision tree. A cool thing about random forests is that they aren't super sensitive to hyperparmeter changes, and work pretty well right off the bat with just their default arguments. \n"
      ]
    },
    {
      "cell_type": "code",
      "execution_count": 42,
      "id": "9a32c2c9",
      "metadata": {},
      "outputs": [
        {
          "data": {
            "text/plain": [
              "(0.171426, 0.232733)"
            ]
          },
          "execution_count": 42,
          "metadata": {},
          "output_type": "execute_result"
        }
      ],
      "source": [
        "m = rf(xs, y)\n",
        "m_rmse(m, xs, y), m_rmse(m, valid_xs, valid_y)"
      ]
    },
    {
      "cell_type": "markdown",
      "id": "5e55b5d4",
      "metadata": {},
      "source": [
        "After plotting our error as a function of the number of decision trees in our forest, we can see the error goes down until tapering out at around 30. \n"
      ]
    },
    {
      "cell_type": "code",
      "execution_count": 43,
      "id": "638b8461",
      "metadata": {},
      "outputs": [
        {
          "name": "stderr",
          "output_type": "stream",
          "text": [
            "/Users/alexander/anaconda3/envs/.venv-dlb/lib/python3.11/site-packages/sklearn/base.py:458: UserWarning: X has feature names, but DecisionTreeRegressor was fitted without feature names\n",
            "/Users/alexander/anaconda3/envs/.venv-dlb/lib/python3.11/site-packages/sklearn/base.py:458: UserWarning: X has feature names, but DecisionTreeRegressor was fitted without feature names\n",
            "/Users/alexander/anaconda3/envs/.venv-dlb/lib/python3.11/site-packages/sklearn/base.py:458: UserWarning: X has feature names, but DecisionTreeRegressor was fitted without feature names\n",
            "/Users/alexander/anaconda3/envs/.venv-dlb/lib/python3.11/site-packages/sklearn/base.py:458: UserWarning: X has feature names, but DecisionTreeRegressor was fitted without feature names\n",
            "/Users/alexander/anaconda3/envs/.venv-dlb/lib/python3.11/site-packages/sklearn/base.py:458: UserWarning: X has feature names, but DecisionTreeRegressor was fitted without feature names\n",
            "/Users/alexander/anaconda3/envs/.venv-dlb/lib/python3.11/site-packages/sklearn/base.py:458: UserWarning: X has feature names, but DecisionTreeRegressor was fitted without feature names\n",
            "/Users/alexander/anaconda3/envs/.venv-dlb/lib/python3.11/site-packages/sklearn/base.py:458: UserWarning: X has feature names, but DecisionTreeRegressor was fitted without feature names\n",
            "/Users/alexander/anaconda3/envs/.venv-dlb/lib/python3.11/site-packages/sklearn/base.py:458: UserWarning: X has feature names, but DecisionTreeRegressor was fitted without feature names\n",
            "/Users/alexander/anaconda3/envs/.venv-dlb/lib/python3.11/site-packages/sklearn/base.py:458: UserWarning: X has feature names, but DecisionTreeRegressor was fitted without feature names\n",
            "/Users/alexander/anaconda3/envs/.venv-dlb/lib/python3.11/site-packages/sklearn/base.py:458: UserWarning: X has feature names, but DecisionTreeRegressor was fitted without feature names\n",
            "/Users/alexander/anaconda3/envs/.venv-dlb/lib/python3.11/site-packages/sklearn/base.py:458: UserWarning: X has feature names, but DecisionTreeRegressor was fitted without feature names\n",
            "/Users/alexander/anaconda3/envs/.venv-dlb/lib/python3.11/site-packages/sklearn/base.py:458: UserWarning: X has feature names, but DecisionTreeRegressor was fitted without feature names\n",
            "/Users/alexander/anaconda3/envs/.venv-dlb/lib/python3.11/site-packages/sklearn/base.py:458: UserWarning: X has feature names, but DecisionTreeRegressor was fitted without feature names\n",
            "/Users/alexander/anaconda3/envs/.venv-dlb/lib/python3.11/site-packages/sklearn/base.py:458: UserWarning: X has feature names, but DecisionTreeRegressor was fitted without feature names\n",
            "/Users/alexander/anaconda3/envs/.venv-dlb/lib/python3.11/site-packages/sklearn/base.py:458: UserWarning: X has feature names, but DecisionTreeRegressor was fitted without feature names\n",
            "/Users/alexander/anaconda3/envs/.venv-dlb/lib/python3.11/site-packages/sklearn/base.py:458: UserWarning: X has feature names, but DecisionTreeRegressor was fitted without feature names\n",
            "/Users/alexander/anaconda3/envs/.venv-dlb/lib/python3.11/site-packages/sklearn/base.py:458: UserWarning: X has feature names, but DecisionTreeRegressor was fitted without feature names\n",
            "/Users/alexander/anaconda3/envs/.venv-dlb/lib/python3.11/site-packages/sklearn/base.py:458: UserWarning: X has feature names, but DecisionTreeRegressor was fitted without feature names\n",
            "/Users/alexander/anaconda3/envs/.venv-dlb/lib/python3.11/site-packages/sklearn/base.py:458: UserWarning: X has feature names, but DecisionTreeRegressor was fitted without feature names\n",
            "/Users/alexander/anaconda3/envs/.venv-dlb/lib/python3.11/site-packages/sklearn/base.py:458: UserWarning: X has feature names, but DecisionTreeRegressor was fitted without feature names\n",
            "/Users/alexander/anaconda3/envs/.venv-dlb/lib/python3.11/site-packages/sklearn/base.py:458: UserWarning: X has feature names, but DecisionTreeRegressor was fitted without feature names\n",
            "/Users/alexander/anaconda3/envs/.venv-dlb/lib/python3.11/site-packages/sklearn/base.py:458: UserWarning: X has feature names, but DecisionTreeRegressor was fitted without feature names\n",
            "/Users/alexander/anaconda3/envs/.venv-dlb/lib/python3.11/site-packages/sklearn/base.py:458: UserWarning: X has feature names, but DecisionTreeRegressor was fitted without feature names\n",
            "/Users/alexander/anaconda3/envs/.venv-dlb/lib/python3.11/site-packages/sklearn/base.py:458: UserWarning: X has feature names, but DecisionTreeRegressor was fitted without feature names\n",
            "/Users/alexander/anaconda3/envs/.venv-dlb/lib/python3.11/site-packages/sklearn/base.py:458: UserWarning: X has feature names, but DecisionTreeRegressor was fitted without feature names\n",
            "/Users/alexander/anaconda3/envs/.venv-dlb/lib/python3.11/site-packages/sklearn/base.py:458: UserWarning: X has feature names, but DecisionTreeRegressor was fitted without feature names\n",
            "/Users/alexander/anaconda3/envs/.venv-dlb/lib/python3.11/site-packages/sklearn/base.py:458: UserWarning: X has feature names, but DecisionTreeRegressor was fitted without feature names\n",
            "/Users/alexander/anaconda3/envs/.venv-dlb/lib/python3.11/site-packages/sklearn/base.py:458: UserWarning: X has feature names, but DecisionTreeRegressor was fitted without feature names\n",
            "/Users/alexander/anaconda3/envs/.venv-dlb/lib/python3.11/site-packages/sklearn/base.py:458: UserWarning: X has feature names, but DecisionTreeRegressor was fitted without feature names\n",
            "/Users/alexander/anaconda3/envs/.venv-dlb/lib/python3.11/site-packages/sklearn/base.py:458: UserWarning: X has feature names, but DecisionTreeRegressor was fitted without feature names\n",
            "/Users/alexander/anaconda3/envs/.venv-dlb/lib/python3.11/site-packages/sklearn/base.py:458: UserWarning: X has feature names, but DecisionTreeRegressor was fitted without feature names\n",
            "/Users/alexander/anaconda3/envs/.venv-dlb/lib/python3.11/site-packages/sklearn/base.py:458: UserWarning: X has feature names, but DecisionTreeRegressor was fitted without feature names\n",
            "/Users/alexander/anaconda3/envs/.venv-dlb/lib/python3.11/site-packages/sklearn/base.py:458: UserWarning: X has feature names, but DecisionTreeRegressor was fitted without feature names\n",
            "/Users/alexander/anaconda3/envs/.venv-dlb/lib/python3.11/site-packages/sklearn/base.py:458: UserWarning: X has feature names, but DecisionTreeRegressor was fitted without feature names\n",
            "/Users/alexander/anaconda3/envs/.venv-dlb/lib/python3.11/site-packages/sklearn/base.py:458: UserWarning: X has feature names, but DecisionTreeRegressor was fitted without feature names\n",
            "/Users/alexander/anaconda3/envs/.venv-dlb/lib/python3.11/site-packages/sklearn/base.py:458: UserWarning: X has feature names, but DecisionTreeRegressor was fitted without feature names\n",
            "/Users/alexander/anaconda3/envs/.venv-dlb/lib/python3.11/site-packages/sklearn/base.py:458: UserWarning: X has feature names, but DecisionTreeRegressor was fitted without feature names\n",
            "/Users/alexander/anaconda3/envs/.venv-dlb/lib/python3.11/site-packages/sklearn/base.py:458: UserWarning: X has feature names, but DecisionTreeRegressor was fitted without feature names\n",
            "/Users/alexander/anaconda3/envs/.venv-dlb/lib/python3.11/site-packages/sklearn/base.py:458: UserWarning: X has feature names, but DecisionTreeRegressor was fitted without feature names\n",
            "/Users/alexander/anaconda3/envs/.venv-dlb/lib/python3.11/site-packages/sklearn/base.py:458: UserWarning: X has feature names, but DecisionTreeRegressor was fitted without feature names\n"
          ]
        },
        {
          "data": {
            "image/png": "[encoded data removed]",
            "text/plain": [
              "<Figure size 640x480 with 1 Axes>"
            ]
          },
          "metadata": {},
          "output_type": "display_data"
        }
      ],
      "source": [
        "preds = np.stack([t.predict(valid_xs) for t in m.estimators_])\n",
        "plt.plot([r_mse(preds[:i+1].mean(0), valid_y) for i in range(40)]);"
      ]
    },
    {
      "cell_type": "markdown",
      "id": "94f31c83",
      "metadata": {},
      "source": [
        "Let's talk about OOBE. This fun little acronym stands for 'out of bag error' - an phrase that's even more fun! This is our error for the rows that weren't part of the random sample used in training our particular decision tree. \n",
        "\n",
        "This is lower than our validation error, so there must be something bumping that number up. \n"
      ]
    },
    {
      "cell_type": "code",
      "execution_count": 44,
      "id": "6b0216b7",
      "metadata": {},
      "outputs": [
        {
          "data": {
            "text/plain": [
              "0.211354"
            ]
          },
          "execution_count": 44,
          "metadata": {},
          "output_type": "execute_result"
        }
      ],
      "source": [
        "r_mse(m.oob_prediction_, y)"
      ]
    },
    {
      "cell_type": "markdown",
      "id": "a1f067b2",
      "metadata": {},
      "source": [
        "Our preds is a stacked array of all of our trees' predictions of all of the auctions. It's got a shape of (40, 7900), which corresponds to 40 rows, one for each of our trees, and over 7000 columns, one for each of the auctions. \n",
        "\n",
        "We'll get the standard deviation of our predictions along the 0-index axis, which is between all our trees for a given auction. This value can be interpreted as how much our trees agree on their predictions for a given auction. We can see our the different values of standard deviations from our first 5 auctions how much the models (dis)agree on their predictions.  \n"
      ]
    },
    {
      "cell_type": "code",
      "execution_count": 45,
      "id": "814cc85e",
      "metadata": {},
      "outputs": [
        {
          "data": {
            "text/plain": [
              "array([0.26048485, 0.12321484, 0.12067137, 0.24954422, 0.13425484])"
            ]
          },
          "execution_count": 45,
          "metadata": {},
          "output_type": "execute_result"
        }
      ],
      "source": [
        "preds_std = preds.std(0)\n",
        "preds_std[:5]"
      ]
    },
    {
      "cell_type": "markdown",
      "id": "ef98a6d7",
      "metadata": {},
      "source": [
        "Not all features are created equal. Some of our columns might be used more than others to determine a split, or will result in a split that partitions the dataset in a significant manner. These will be of particular importance to us in being a more significant indicator of our dependent variable. If only there was some way to the determine the importance of our features. Our feature importance, if you will...\n",
        "\n",
        "WELL WE'RE IN LUCK! Our random forest object has an attribute that will tell us the importances of our features, aptly named .feature_importances_.\n",
        "\n",
        "Let's take a look at our most important features.\n"
      ]
    },
    {
      "cell_type": "code",
      "execution_count": 46,
      "id": "4968dfbf",
      "metadata": {},
      "outputs": [
        {
          "data": {
            "text/html": [
              "<div>\n",
              "<style scoped>\n",
              "    .dataframe tbody tr th:only-of-type {\n",
              "        vertical-align: middle;\n",
              "    }\n",
              "\n",
              "    .dataframe tbody tr th {\n",
              "        vertical-align: top;\n",
              "    }\n",
              "\n",
              "    .dataframe thead th {\n",
              "        text-align: right;\n",
              "    }\n",
              "</style>\n",
              "<table border=\"1\" class=\"dataframe\">\n",
              "  <thead>\n",
              "    <tr style=\"text-align: right;\">\n",
              "      <th></th>\n",
              "      <th>cols</th>\n",
              "      <th>imp</th>\n",
              "    </tr>\n",
              "  </thead>\n",
              "  <tbody>\n",
              "    <tr>\n",
              "      <th>57</th>\n",
              "      <td>YearMade</td>\n",
              "      <td>0.171413</td>\n",
              "    </tr>\n",
              "    <tr>\n",
              "      <th>30</th>\n",
              "      <td>Coupler_System</td>\n",
              "      <td>0.111176</td>\n",
              "    </tr>\n",
              "    <tr>\n",
              "      <th>6</th>\n",
              "      <td>ProductSize</td>\n",
              "      <td>0.096954</td>\n",
              "    </tr>\n",
              "    <tr>\n",
              "      <th>7</th>\n",
              "      <td>fiProductClassDesc</td>\n",
              "      <td>0.084829</td>\n",
              "    </tr>\n",
              "    <tr>\n",
              "      <th>54</th>\n",
              "      <td>ModelID</td>\n",
              "      <td>0.057510</td>\n",
              "    </tr>\n",
              "    <tr>\n",
              "      <th>65</th>\n",
              "      <td>saleElapsed</td>\n",
              "      <td>0.051394</td>\n",
              "    </tr>\n",
              "    <tr>\n",
              "      <th>32</th>\n",
              "      <td>Hydraulics_Flow</td>\n",
              "      <td>0.048373</td>\n",
              "    </tr>\n",
              "    <tr>\n",
              "      <th>3</th>\n",
              "      <td>fiSecondaryDesc</td>\n",
              "      <td>0.047954</td>\n",
              "    </tr>\n",
              "    <tr>\n",
              "      <th>31</th>\n",
              "      <td>Grouser_Tracks</td>\n",
              "      <td>0.042956</td>\n",
              "    </tr>\n",
              "    <tr>\n",
              "      <th>12</th>\n",
              "      <td>Enclosure</td>\n",
              "      <td>0.042070</td>\n",
              "    </tr>\n",
              "  </tbody>\n",
              "</table>\n",
              "</div>"
            ],
            "text/plain": [
              "                  cols       imp\n",
              "57            YearMade  0.171413\n",
              "30      Coupler_System  0.111176\n",
              "6          ProductSize  0.096954\n",
              "7   fiProductClassDesc  0.084829\n",
              "54             ModelID  0.057510\n",
              "65         saleElapsed  0.051394\n",
              "32     Hydraulics_Flow  0.048373\n",
              "3      fiSecondaryDesc  0.047954\n",
              "31      Grouser_Tracks  0.042956\n",
              "12           Enclosure  0.042070"
            ]
          },
          "execution_count": 46,
          "metadata": {},
          "output_type": "execute_result"
        }
      ],
      "source": [
        "def rf_feat_importance(m, df):\n",
        "    return pd.DataFrame({'cols':df.columns, 'imp':m.feature_importances_}\n",
        "                       ).sort_values('imp', ascending=False)\n",
        "fi = rf_feat_importance(m, xs)\n",
        "fi[:10]"
      ]
    },
    {
      "cell_type": "markdown",
      "id": "989966e0",
      "metadata": {},
      "source": [
        "The way that importance is calculated, is that all branches of all the decision trees are iterated through. The 'improvement' of the model as a result of that split (usually measured by the gini or impurity reduction) is weighted by the number of samples in that node, and is summed for each feature across all branches of all trees. These sums are then normalized to 1. \n"
      ]
    },
    {
      "cell_type": "code",
      "execution_count": 47,
      "id": "f2d0a71e",
      "metadata": {},
      "outputs": [
        {
          "data": {
            "image/png": "[encoded data removed]",
            "text/plain": [
              "<Figure size 1200x700 with 1 Axes>"
            ]
          },
          "metadata": {},
          "output_type": "display_data"
        }
      ],
      "source": [
        "def plot_fi(fi):\n",
        "    return fi.plot('cols', 'imp', 'barh', figsize=(12,7), legend=False)\n",
        "\n",
        "plot_fi(fi[:30]);"
      ]
    },
    {
      "cell_type": "markdown",
      "id": "9fe311e7",
      "metadata": {},
      "source": [
        "Let's focus on just what's important. We'll remove all the columns with a really small feature importance value and train another model on our only important columns. \n",
        "\n",
        "We can see that the performance is basically the same as our model trained on the entire dataset, but now the task of scrutinizing is much more manageable with this subset of columns. \n",
        "\n",
        "Let's make it a habit of simplying our model when possible as one of the first things we do to try and improve it. \n"
      ]
    },
    {
      "cell_type": "code",
      "execution_count": 48,
      "id": "6fc96d98",
      "metadata": {},
      "outputs": [
        {
          "name": "stdout",
          "output_type": "stream",
          "text": [
            "Important feature training error: 0.181752, Important feature valid error: 0.231166\n",
            " All columns: 66, Important columns: 21\n"
          ]
        }
      ],
      "source": [
        "to_keep = fi[fi.imp>0.005].cols\n",
        "len(to_keep)\n",
        "xs_imp = xs[to_keep]\n",
        "valid_xs_imp = valid_xs[to_keep]\n",
        "m = rf(xs_imp, y)\n",
        "print(f\"Important feature training error: {m_rmse(m, xs_imp, y)}, Important feature valid error: {m_rmse(m, valid_xs_imp, valid_y)}\")\n",
        "print(f\" All columns: {len(xs.columns)}, Important columns: {len(xs_imp.columns)}\")"
      ]
    },
    {
      "cell_type": "markdown",
      "id": "56a97483",
      "metadata": {},
      "source": [
        "Another step we can take to simplying our model (by removing unnecessary columns) is to remove redundant ones. Here's a visualization of the our most similar columns. \n",
        "\n",
        "As expected, something like 'saleYear' and 'saleElapsed' are very similar. Even though they might have different values, the model will be able to extract the same insights - how long ago it was sold - from the columns. \n"
      ]
    },
    {
      "cell_type": "code",
      "execution_count": 49,
      "id": "94c05300",
      "metadata": {},
      "outputs": [
        {
          "data": {
            "image/png": "[encoded data removed]",
            "text/plain": [
              "<Figure size 1000x600 with 1 Axes>"
            ]
          },
          "metadata": {},
          "output_type": "display_data"
        }
      ],
      "source": [
        "cluster_columns(xs_imp)"
      ]
    },
    {
      "cell_type": "markdown",
      "id": "095d6aa4",
      "metadata": {},
      "source": [
        "Let's experiment to see if dropping columns has any affect on our performance (hint: if we're making a point to illustrate this technique it probably won't). I'm a big fan of dropping things - the beat, some bars, some facts, and columns are no exception. \n",
        "\n",
        "This method will give us our OOB score, and the parameters to the model we're training in this function are set up to train it quickly. We can see the baseline OOB error for our model with all important columns below.\n"
      ]
    },
    {
      "cell_type": "code",
      "execution_count": 50,
      "id": "b95673b3",
      "metadata": {},
      "outputs": [
        {
          "data": {
            "text/plain": [
              "0.8755843680559935"
            ]
          },
          "execution_count": 50,
          "metadata": {},
          "output_type": "execute_result"
        }
      ],
      "source": [
        "def get_oob(df):\n",
        "    m = RandomForestRegressor(n_estimators=40, min_samples_leaf=15,\n",
        "        max_samples=50000, max_features=0.5, n_jobs=-1, oob_score=True)\n",
        "    m.fit(df, y)\n",
        "    return m.oob_score_\n",
        "\n",
        "get_oob(xs_imp)"
      ]
    },
    {
      "cell_type": "markdown",
      "id": "3a7310b5",
      "metadata": {},
      "source": [
        "Dropping one of each our potentially redudant variables at a time, the OOB error doesn't change much. \n"
      ]
    },
    {
      "cell_type": "code",
      "execution_count": 51,
      "id": "7ddaf289",
      "metadata": {},
      "outputs": [
        {
          "data": {
            "text/plain": [
              "{'saleYear': 0.8746679612411252,\n",
              " 'saleElapsed': 0.8702083126422467,\n",
              " 'ProductGroupDesc': 0.8753608603727971,\n",
              " 'ProductGroup': 0.8757640492749871,\n",
              " 'fiModelDesc': 0.8736460335938832,\n",
              " 'fiBaseModel': 0.8755019013911903,\n",
              " 'Hydraulics_Flow': 0.8762507093871456,\n",
              " 'Grouser_Tracks': 0.8765045615261711,\n",
              " 'Coupler_System': 0.8760192680430767}"
            ]
          },
          "execution_count": 51,
          "metadata": {},
          "output_type": "execute_result"
        }
      ],
      "source": [
        "{c:get_oob(xs_imp.drop(c, axis=1)) for c in (\n",
        "    'saleYear', 'saleElapsed', 'ProductGroupDesc','ProductGroup',\n",
        "    'fiModelDesc', 'fiBaseModel',\n",
        "    'Hydraulics_Flow','Grouser_Tracks', 'Coupler_System')}"
      ]
    },
    {
      "cell_type": "markdown",
      "id": "472a1a1a",
      "metadata": {},
      "source": [
        "Even dropping multiple redundant columns at a time still holds up\n"
      ]
    },
    {
      "cell_type": "code",
      "execution_count": 52,
      "id": "4e8441ae",
      "metadata": {},
      "outputs": [
        {
          "data": {
            "text/plain": [
              "0.8733542953468885"
            ]
          },
          "execution_count": 52,
          "metadata": {},
          "output_type": "execute_result"
        }
      ],
      "source": [
        "to_drop = ['saleYear', 'ProductGroupDesc', 'fiBaseModel', 'Grouser_Tracks']\n",
        "get_oob(xs_imp.drop(to_drop, axis=1))"
      ]
    },
    {
      "cell_type": "markdown",
      "id": "521c72ff",
      "metadata": {},
      "source": [
        "Let's create a dataframe with our dropped variables (and save it as a good practice).\n",
        "\n",
        "As a final check, we'll look at the validation errors from this random forest model training on our dataset with redundancies eliminated. Looks pretty similar to our performance from having the entire dataset, so it looks like we've been able to effectively simplify our model even further. I told you it would all work out.\n"
      ]
    },
    {
      "cell_type": "code",
      "execution_count": 53,
      "id": "60df0f12",
      "metadata": {},
      "outputs": [
        {
          "data": {
            "text/plain": [
              "(0.183904, 0.232606)"
            ]
          },
          "execution_count": 53,
          "metadata": {},
          "output_type": "execute_result"
        }
      ],
      "source": [
        "xs_final = xs_imp.drop(to_drop, axis=1) #create dataframe without dropped columns\n",
        "valid_xs_final = valid_xs_imp.drop(to_drop, axis=1) #create dataframe without dropped columns\n",
        "save_pickle(path/'xs_final.pkl', xs_final) #save df\n",
        "save_pickle(path/'valid_xs_final.pkl', valid_xs_final) #save df\n",
        "xs_final = load_pickle(path/'xs_final.pkl') #reload df\n",
        "valid_xs_final = load_pickle(path/'valid_xs_final.pkl') #reload df\n",
        "m = rf(xs_final, y) #train random forest model\n",
        "m_rmse(m, xs_final, y), m_rmse(m, valid_xs_final, valid_y) #get validation error"
      ]
    },
    {
      "cell_type": "markdown",
      "id": "6a604c1c",
      "metadata": {},
      "source": [
        "Now let's talk about 'partial dependence'. These plots try and isolate the effect that a single independent variable has on our dependent variable, without that relationship being affected by changes in our other variables. \n",
        "\n",
        "How this will work is we'll take every level of our independent variable (IV) in question (we're looking at 'YearMade' and 'ProductSize' in this example because they are our most important features) and for our entire dataset, replace every value of that independent variable with one of the levels of our IV. Then we'll use our model to make predictions , where all our other features are the same as before, except for our IV which has had all of its values swapped with one of its levels. Then we'll repeat this process for every level in that IV. This will give us predictions where everything is held constant except for the IV we're investigating.\n",
        "\n",
        "This translates to our working dataset by keeping all the columns the same except 'YearMade'. We'll replace all the values in that column with 1950, make our predictions, take the average, and that'll be our prediction for bulldozers from 1950. Then we'll replace all the values in the column with 1951, and rinse and repeat with making and averaging predictions for all the levels in the 'YearMade' column.\n",
        "\n",
        "In plotting this, we can see that the year and price have a very strong, positively correlated relationship, as we'd except. The 'ProductSize' doesn't quite have as clean a relationship though, which we'll talk about shortly. \n"
      ]
    },
    {
      "cell_type": "code",
      "execution_count": 59,
      "id": "bbaa835f",
      "metadata": {},
      "outputs": [
        {
          "ename": "TypeError",
          "evalue": "PartialDependenceDisplay.__init__() takes 2 positional arguments but 3 were given",
          "output_type": "error",
          "traceback": [
            "\u001b[0;31m---------------------------------------------------------------------------\u001b[0m",
            "\u001b[0;31mTypeError\u001b[0m                                 Traceback (most recent call last)",
            "Cell \u001b[0;32mIn[59], line 4\u001b[0m\n\u001b[1;32m      1\u001b[0m \u001b[39mfrom\u001b[39;00m \u001b[39msklearn\u001b[39;00m\u001b[39m.\u001b[39;00m\u001b[39minspection\u001b[39;00m \u001b[39mimport\u001b[39;00m PartialDependenceDisplay\n\u001b[1;32m      3\u001b[0m fig,ax \u001b[39m=\u001b[39m plt\u001b[39m.\u001b[39msubplots(figsize\u001b[39m=\u001b[39m(\u001b[39m12\u001b[39m, \u001b[39m4\u001b[39m))\n\u001b[0;32m----> 4\u001b[0m PartialDependenceDisplay(valid_xs_final, [\u001b[39m'\u001b[39;49m\u001b[39mYearMade\u001b[39;49m\u001b[39m'\u001b[39;49m,\u001b[39m'\u001b[39;49m\u001b[39mProductSize\u001b[39;49m\u001b[39m'\u001b[39;49m]);\n",
            "\u001b[0;31mTypeError\u001b[0m: PartialDependenceDisplay.__init__() takes 2 positional arguments but 3 were given"
          ]
        },
        {
          "data": {
            "image/png": "[encoded data removed]",
            "text/plain": [
              "<Figure size 1200x400 with 1 Axes>"
            ]
          },
          "metadata": {},
          "output_type": "display_data"
        }
      ],
      "source": [
        "from sklearn.inspection import PartialDependenceDisplay\n",
        "\n",
        "fig,ax = plt.subplots(figsize=(12, 4))\n",
        "PartialDependenceDisplay(m, valid_xs_final, ['YearMade','ProductSize']);"
      ]
    },
    {
      "cell_type": "markdown",
      "id": "f75fee74",
      "metadata": {},
      "source": [
        "We've seen how much an impact our features have aggregated across our entire dataset, but what if we wanted to drill down into a single row and analyze how our features influenced the prediction for that one data point? \n",
        "\n",
        "We can do this with the treeinterpreter library. \n",
        "\n",
        "Let's pass in the first 5 rows of our validation set and pass them to our treeinterpreter, along with our model.\n",
        "\n",
        "The output we'll get from the .predict() method is:\n",
        "- prediction: self-explanatory (our prediction from our random forest)\n",
        "- bias: the prediction we'd get just by taking the mean of our dependent variable. This would be equivalent to if our model was just the root of the tree with no branches\n",
        "- contributions: The increase or decrease in our prediction based on branch split we take on our path to a leaf node a.k.a the change in our prediction caused by the independent variables. Summing this up, and adding it to our bias will equal the prediction. \n"
      ]
    },
    {
      "cell_type": "code",
      "execution_count": 65,
      "id": "b9f8e66c",
      "metadata": {},
      "outputs": [],
      "source": [
        "row = valid_xs_final.iloc[:5]\n",
        "prediction,bias,contributions = ti.predict(m, row.values)"
      ]
    },
    {
      "cell_type": "markdown",
      "id": "e6956b20",
      "metadata": {},
      "source": [
        "Plotting these contributions, we can visualize the impact that each of the independent variables had on our prediction. \n"
      ]
    },
    {
      "cell_type": "code",
      "execution_count": 72,
      "id": "1146aa9a",
      "metadata": {},
      "outputs": [
        {
          "ename": "TypeError",
          "evalue": "'module' object is not callable",
          "output_type": "error",
          "traceback": [
            "\u001b[0;31m---------------------------------------------------------------------------\u001b[0m",
            "\u001b[0;31mTypeError\u001b[0m                                 Traceback (most recent call last)",
            "Cell \u001b[0;32mIn[72], line 1\u001b[0m\n\u001b[0;32m----> 1\u001b[0m waterfall(valid_xs_final\u001b[39m.\u001b[39;49mcolumns, contributions[\u001b[39m0\u001b[39;49m], threshold\u001b[39m=\u001b[39;49m\u001b[39m0.08\u001b[39;49m, \n\u001b[1;32m      2\u001b[0m           rotation_value\u001b[39m=\u001b[39;49m\u001b[39m45\u001b[39;49m,formatting\u001b[39m=\u001b[39;49m\u001b[39m'\u001b[39;49m\u001b[39m{:,.3f}\u001b[39;49;00m\u001b[39m'\u001b[39;49m);\n",
            "\u001b[0;31mTypeError\u001b[0m: 'module' object is not callable"
          ]
        }
      ],
      "source": [
        "waterfall(valid_xs_final.columns, contributions[0], threshold=0.08, \n",
        "          rotation_value=45,formatting='{:,.3f}');"
      ]
    },
    {
      "cell_type": "markdown",
      "id": "35aae9c3",
      "metadata": {},
      "source": [
        "We've covered some pretty effective yet simple ways of improving and interpreting our model. But it's not all sunshine and rainbows when it comes to machine learning. \n",
        "\n",
        "Random forests have a pretty large issue when it comes to extrapolating data - that is making predictions for data it hasn't seen before, that we'll illustrate in an example. \n",
        "\n",
        "Let's train a model on the first 30 rows of a slightly noisy but mostly linear dataset"
      ]
    },
    {
      "cell_type": "code",
      "execution_count": null,
      "id": "dbdd5bee",
      "metadata": {},
      "outputs": [],
      "source": [
        "np.random.seed(42)\n",
        "x_lin = torch.linspace(0,20, steps=40)\n",
        "y_lin = x_lin + torch.randn_like(x_lin)\n",
        "plt.scatter(x_lin, y_lin);\n",
        "xs_lin = x_lin.unsqueeze(1)\n",
        "x_lin.shape,xs_lin.shape\n",
        "x_lin[:,None].shape\n",
        "m_lin = RandomForestRegressor().fit(xs_lin[:30],y_lin[:30])"
      ]
    },
    {
      "cell_type": "markdown",
      "id": "8a93fd1c",
      "metadata": {},
      "source": [
        "When we try to make a prediction on the rest of the dataset (the data is blue, our predictions are red). From this graph, we can see that predictions for an x-value greater than 12.5 are all too low, with them all being around 16. \n",
        "\n",
        "This is because of how are predictions are generated. Remember that they're just the average of the dependent variable values for the samples in our leaf nodes. Thus, they'll all be a fixed number, based on data that the model has seen before. So when it makes predictions on new data, it's essentially saying \"you're closest to this group that I've seen before, so that'll be your prediction. You might actually be really far off from this group, but you're even farther off from all the other groups, so that's the best I can do for you. \"\n"
      ]
    },
    {
      "cell_type": "code",
      "execution_count": null,
      "id": "c59778ed",
      "metadata": {},
      "outputs": [],
      "source": [
        "plt.scatter(x_lin, y_lin, 20)\n",
        "plt.scatter(x_lin, m_lin.predict(xs_lin), color='red', alpha=0.5);"
      ]
    },
    {
      "cell_type": "markdown",
      "id": "05b59d46",
      "metadata": {},
      "source": [
        "With this extrapolation problem in mind, we want to make sure the distribution of our training and validation sets is similar - that our validation set does not contain any 'Out-of-Domain' data. \n",
        "\n",
        "We can assess the distribution of our training and validation sets in a pretty clever way. Let's combine the two, and instead of trying to predict a SalesPrice, introduce a new dependent variable which will be whether or not the data was originally in the training or validation set, and try to predict that. \n",
        "\n",
        "Looking at the features that are most important in discerning the original set of a sample, we see the top 3 are 'saleElapsed', 'SalesID', and 'MachineID'. This makes sense since the original way we split up the set was by the date. \n"
      ]
    },
    {
      "cell_type": "code",
      "execution_count": null,
      "id": "5b6f0790",
      "metadata": {},
      "outputs": [],
      "source": [
        "df_dom = pd.concat([xs_final, valid_xs_final])\n",
        "is_valid = np.array([0]*len(xs_final) + [1]*len(valid_xs_final))\n",
        "\n",
        "m = rf(df_dom, is_valid)\n",
        "rf_feat_importance(m, df_dom)[:6]"
      ]
    },
    {
      "cell_type": "markdown",
      "id": "cf0d0a40",
      "metadata": {},
      "source": [
        "Let's use a technique we used above, and see what the performance of our model would be when one of these columns is removed. \n"
      ]
    },
    {
      "cell_type": "code",
      "execution_count": null,
      "id": "2b61ec23",
      "metadata": {},
      "outputs": [],
      "source": [
        "m = rf(xs_final, y)\n",
        "print('orig', m_rmse(m, valid_xs_final, valid_y))\n",
        "\n",
        "for c in ('SalesID','saleElapsed','MachineID'):\n",
        "    m = rf(xs_final.drop(c,axis=1), y)\n",
        "    print(c, m_rmse(m, valid_xs_final.drop(c,axis=1), valid_y))"
      ]
    },
    {
      "cell_type": "markdown",
      "id": "10304e7f",
      "metadata": {},
      "source": [
        "We'll drop the 'SalesID' and 'MachineID' columns, which actually improves the accuracy of our model. \n"
      ]
    },
    {
      "cell_type": "code",
      "execution_count": null,
      "id": "f88e7afd",
      "metadata": {},
      "outputs": [],
      "source": [
        "time_vars = ['SalesID','MachineID']\n",
        "xs_final_time = xs_final.drop(time_vars, axis=1)\n",
        "valid_xs_time = valid_xs_final.drop(time_vars, axis=1)\n",
        "\n",
        "m = rf(xs_final_time, y)\n",
        "m_rmse(m, valid_xs_time, valid_y)"
      ]
    },
    {
      "cell_type": "markdown",
      "id": "b7727adc",
      "metadata": {},
      "source": [
        "Another thing that can help is to make sure we're only using relevant data. Since it seems like the age of the bulldozer is a very important feature to our predictions, we'll actually just use a subset of our data, the most recent 20 years or so, to train our model so that any outdated relationships aren't captured in our dataset. \n"
      ]
    },
    {
      "cell_type": "code",
      "execution_count": null,
      "id": "0e550fba",
      "metadata": {},
      "outputs": [],
      "source": [
        "xs['saleYear'].hist();\n",
        "filt = xs['saleYear']>2004\n",
        "xs_filt = xs_final_time[filt]\n",
        "y_filt = y[filt]"
      ]
    },
    {
      "cell_type": "markdown",
      "id": "a1ae6745",
      "metadata": {},
      "source": [
        "This model trained on only data from after 2004 is performing better than anything else we've seen so far. \n"
      ]
    },
    {
      "cell_type": "code",
      "execution_count": null,
      "id": "505fe95c",
      "metadata": {},
      "outputs": [],
      "source": [
        "m = rf(xs_filt, y_filt)\n",
        "m_rmse(m, xs_filt, y_filt), m_rmse(m, valid_xs_time, valid_y)"
      ]
    },
    {
      "cell_type": "markdown",
      "id": "8a57392b",
      "metadata": {},
      "source": [
        "Alright, would we really be data scientists if we didn't throw a neural network at everything? Let's see how they can help. Let's pre-process our data the same way we did before passing it into the TabularPandas object, and also use only the subset of columns that we've analyzed to be most relevant. \n"
      ]
    },
    {
      "cell_type": "code",
      "execution_count": null,
      "id": "7989c83e",
      "metadata": {},
      "outputs": [],
      "source": [
        "df_nn = pd.read_csv(path/'TrainAndValid.csv', low_memory=False)\n",
        "df_nn['ProductSize'] = df_nn['ProductSize'].astype('category')\n",
        "df_nn['ProductSize'].cat.set_categories(sizes, ordered=True, inplace=True)\n",
        "df_nn[dep_var] = np.log(df_nn[dep_var])\n",
        "df_nn = add_datepart(df_nn, 'saledate')\n",
        "df_nn_final = df_nn[list(xs_final_time.columns) + [dep_var]]"
      ]
    },
    {
      "cell_type": "markdown",
      "id": "0b40a895",
      "metadata": {},
      "source": [
        "We'll also have to handle categorical and continous variables differently with neural networks, because we can use embeddings here. We'll use the cont_cat_split function and pass in a 'max_card' argument, which will treat variables as categorical if there are less levels than max_card. \n"
      ]
    },
    {
      "cell_type": "code",
      "execution_count": null,
      "id": "662e15d4",
      "metadata": {},
      "outputs": [],
      "source": [
        "cont_nn,cat_nn = cont_cat_split(df_nn_final, max_card=9000, dep_var=dep_var)"
      ]
    },
    {
      "cell_type": "markdown",
      "id": "9d869064",
      "metadata": {},
      "source": [
        "Our 'saleElapsed' column is treated as a continous variable, which is what we want because we wouldn't be able to extrapolate for sales in the future if it was a categorical variable. \n"
      ]
    },
    {
      "cell_type": "code",
      "execution_count": null,
      "id": "3982bb6a",
      "metadata": {},
      "outputs": [],
      "source": [
        "cont_nn"
      ]
    },
    {
      "cell_type": "markdown",
      "id": "5af4a9b0",
      "metadata": {},
      "source": [
        "It looks like we have two categories with a lot of unique values. fiModelDesc has over 5000 and sound sjust like fiModelDescriptor. They literally just sound redundant, so let's see if we can get away with removing one of them (hint: it won't)\n"
      ]
    },
    {
      "cell_type": "code",
      "execution_count": null,
      "id": "7bd42a9c",
      "metadata": {},
      "outputs": [],
      "source": [
        "df_nn_final[cat_nn].nunique()"
      ]
    },
    {
      "cell_type": "markdown",
      "id": "504572b3",
      "metadata": {},
      "source": [
        "Hint: it didn't\n"
      ]
    },
    {
      "cell_type": "code",
      "execution_count": null,
      "id": "8f615c79",
      "metadata": {},
      "outputs": [],
      "source": [
        "xs_filt2 = xs_filt.drop('fiModelDescriptor', axis=1)\n",
        "valid_xs_time2 = valid_xs_time.drop('fiModelDescriptor', axis=1)\n",
        "m2 = rf(xs_filt2, y_filt)\n",
        "print(m_rmse(m2, xs_filt2, y_filt), m_rmse(m2, valid_xs_time2, valid_y))\n",
        "\n",
        "cat_nn.remove('fiModelDescriptor')"
      ]
    },
    {
      "cell_type": "markdown",
      "id": "5869ec4e",
      "metadata": {},
      "source": [
        "Now that we've done some exploration and refinement of our dataset we can create a TabularPandas object to handle the rest of our processing. We'll use a large batch size because tabular models are generally GPU RAM friendly. \n"
      ]
    },
    {
      "cell_type": "code",
      "execution_count": null,
      "id": "910e35ce",
      "metadata": {},
      "outputs": [],
      "source": [
        "procs_nn = [Categorify, FillMissing, Normalize]\n",
        "to_nn = TabularPandas(df_nn_final, procs_nn, cat_nn, cont_nn,\n",
        "                      splits=splits, y_names=dep_var)\n",
        "\n",
        "dls = to_nn.dataloaders(1024)"
      ]
    },
    {
      "cell_type": "markdown",
      "id": "b25ed1cf",
      "metadata": {},
      "source": [
        "We'll create our tabular model with the tabular_learner class. We specify a y_range for our regression model, based on the max and mins we see in the training set. Since we have a lot of data, we'll make our layers a bit larger, and use MSE as our loss function as defined in the Kaggle competition. \n"
      ]
    },
    {
      "cell_type": "code",
      "execution_count": null,
      "id": "1a471243",
      "metadata": {},
      "outputs": [],
      "source": [
        "y = to_nn.train.y\n",
        "print(y.min(),y.max())\n",
        "learn = tabular_learner(dls, y_range=(8,12), layers=[500,250],\n",
        "                        n_out=1, loss_func=F.mse_loss)\n"
      ]
    },
    {
      "cell_type": "markdown",
      "id": "fe734328",
      "metadata": {},
      "source": [
        "Using the lr_find() method to get our optimal learning rate, let's train the model for a few epochs.\n"
      ]
    },
    {
      "cell_type": "code",
      "execution_count": null,
      "id": "4c3c39e5",
      "metadata": {},
      "outputs": [],
      "source": [
        "learn.lr_find()\n",
        "learn.fit_one_cycle(5, 1e-2)"
      ]
    },
    {
      "cell_type": "markdown",
      "id": "3732e24e",
      "metadata": {},
      "source": [
        "Using it for predictions, we can see that it does a better job than our random forest. The trade off is that it took longer to train, and we need to do some more work to find the hyperparameters that allowed it to perform so well. \n"
      ]
    },
    {
      "cell_type": "code",
      "execution_count": null,
      "id": "3861ac10",
      "metadata": {},
      "outputs": [],
      "source": [
        "preds,targs = learn.get_preds()\n",
        "learn.save('nn') #save model incase we want to come back to it\n",
        "print(r_mse(preds,targs))"
      ]
    },
    {
      "cell_type": "markdown",
      "id": "ede21c05",
      "metadata": {},
      "source": [
        "Let's take ensembling even further. Our random forest was an ensemble of decision trees, but there's no rules saying that we have to use the same architecture model architecture. We'll combine our already ensembled model, the random forest, and our neural network and create an enseensemblemble.\n",
        "\n",
        "We'll need to convert their outputs to the same shape and object type, but after doing that we can see the average of the predictions from these two models is better than either of them separately. \n"
      ]
    },
    {
      "cell_type": "code",
      "execution_count": null,
      "id": "a872f1b9",
      "metadata": {},
      "outputs": [],
      "source": [
        "rf_preds = m.predict(valid_xs_time)\n",
        "ens_preds = (to_np(preds.squeeze()) + rf_preds) /2\n",
        "r_mse(ens_preds,valid_y)"
      ]
    },
    {
      "cell_type": "markdown",
      "id": "7ae98fc1",
      "metadata": {},
      "source": [
        "Let's quickly talk about another decision tree ensemble - gradient boosting machines. Instead of taking the average of a bunch of predictions like in random forest, with gradient boosting our final prediction will come from the sum of our set of predictions. It works like so:\n",
        "\n",
        "1. Train a small model that will inevitably underfit the data set\n",
        "2. Calculate the predictions in the training set for this model\n",
        "3. Subtract the predictions from the targets to get our 'residuals' which is our error for each of our data points\n",
        "4. Repeat steps 1 - 3, but instead of using our original targets, we now target our residuals calculated from the last iteration instead\n",
        "5. Continue doing this until you reach some stopping criterion e.g. a max number of trees is created, or our validation error is getting worse. \n",
        "\n",
        "By doing this, we're sequentially trying to build another tree that will bridge the gap that the last one had between the predictions and target (which are our residuals after the first tree), over and over again.\n",
        "\n",
        "Then, to get our final prediction, we sum up all of the predictions we get from the trees in our ensemble. \n",
        "\n",
        "Let's finish of this entry with some more of our favorite thing: text explanations. We actually ended up doing a lot of different, useful things this notebook and I want to recap them.\n",
        "\n",
        "We took a look at 3 different models:\n",
        "\n",
        "1. Random Forests:\n",
        "    Pros: \n",
        "     - Fast to train\n",
        "     - Easy to get started with by requiring minimal preprocessing or hyperparameter tuning\n",
        "     - Resilient to overfitting with enough trees\n",
        "     - Can provide insight into data with partial dependence analysis or feature importance\n",
        "    Cons:\n",
        "     - May be less accurate than other approaches, and if extrapolation is needed then thats a problem\n",
        "2. Neural Networks:\n",
        "    Pros:\n",
        "    - Good results & extrapolate well\n",
        "    - Can use parts (embedding layer) in other models even if the predictions/rest of the layers aren't\n",
        "    Cons:\n",
        "    - Long to train\n",
        "    - Finnicky -> requires more preprocessing and hyperparameter tuning to get good performance\n",
        "    - Can overfit\n",
        "3. Gradient Boosting:\n",
        "    Pros:\n",
        "    - Fast to train (about the same as random forest)\n",
        "    - Can be more accurate than random forest\n",
        "    Cons:\n",
        "    - Require hyperparameter tuning\n",
        "    - Can overfit\n",
        "\n",
        "\n",
        "And also did some important work in data exploration and processing our data set to improve our results, and understanding of our data. \n",
        "\n",
        "We:\n",
        "- Look at feature importance to determine our most impact columns and remove the least import ones\n",
        "- Removed redundant columns\n",
        "- Deal with out-of-domain data issues by filtering our data set to try and get our training and validation set to have\n",
        "- Did partial dependence to see the impact one independent variable has on our dependent variable \n",
        "\n",
        "And we're able to do all of that from the starting off by just training a model and seeing where it could take us. These have been useful techniques in improving our understanding of the data, and we were able to make use of them by just jumping in and getting our bearings from where we landed. We literally modeled first, and asked questions later (and then modeled again some more). Having a bias towards action, is a good attitude to have when in deep learning. \n"
      ]
    }
  ],
  "metadata": {
    "kernelspec": {
      "display_name": "Python 3 (ipykernel)",
      "language": "python",
      "name": "python3"
    },
    "language_info": {
      "codemirror_mode": {
        "name": "ipython",
        "version": 3
      },
      "file_extension": ".py",
      "mimetype": "text/x-python",
      "name": "python",
      "nbconvert_exporter": "python",
      "pygments_lexer": "ipython3",
      "version": "3.11.5"
    }
  },
  "nbformat": 4,
  "nbformat_minor": 5
}
