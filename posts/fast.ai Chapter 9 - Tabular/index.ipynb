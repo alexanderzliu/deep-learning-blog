{
  "cells": [
    {
      "cell_type": "raw",
      "metadata": {},
      "source": [
        "---\n",
        "title: 'Practical Deep Learning for Coders: Tabular Modeling'\n",
        "author: Alex Liu\n",
        "date: '2023-11-01'\n",
        "categories:\n",
        "  - Deep Learning\n",
        "  - Tabular Data\n",
        "image: image.jpg\n",
        "---"
      ],
      "id": "b832bdf6"
    },
    {
      "cell_type": "markdown",
      "metadata": {},
      "source": [
        "In this lesson we'll be exploring methods of tabular modeling. Tabular data is represented in a table i.e a spreadsheet with columns and rows. Our goal is to use the data in our columns to predict the value of another column. \n"
      ],
      "id": "25728708"
    },
    {
      "cell_type": "code",
      "metadata": {},
      "source": [
        "import sys\n",
        "!{sys.executable} -m pip install fastbook kaggle waterfallcharts treeinterpreter dtreeviz\n",
        "\n",
        "import fastbook\n",
        "fastbook.setup_book()\n",
        "\n",
        "\n",
        "%matplotlib_inline\n",
        "from fastbook import *\n",
        "from pandas.api.types import is_string_dtype, is_numeric_dtype, is_categorical_dtype\n",
        "from fastai.tabular.all import *\n",
        "from sklearn.ensemble import RandomForestRegressor\n",
        "from sklearn.tree import DecisionTreeRegressor\n",
        "from dtreeviz.trees import *\n",
        "from IPython.display import Image, display_svg, SVG\n",
        "\n",
        "pd.options.display.max_rows = 20\n",
        "pd.options.display.max_columns = 8"
      ],
      "id": "fa7b8e1b",
      "execution_count": null,
      "outputs": []
    },
    {
      "cell_type": "markdown",
      "metadata": {},
      "source": [
        "Some information before we start:\n",
        "\n",
        "Continous variable - Data that can be represented numerically that can be mathematically operated on. We can feed these into our models directly because the mathematical operations we'll do in our model (multiplication, addition, etc.) will make sense straight away.\n",
        "\n",
        "Categorical variable - Variables that take on a variety of discrete values. These need to be converted to a number before we can use them as input in our model. \n",
        "\n",
        "In our recent excercises we've just been training neural networks to solve every problem we've had. \n",
        "\n",
        "hewwo, its bubu speaking now. you have 8 days to live. you can extend this time by buying bubu a thai iced tea. >-<\n",
        "\n",
        "This hasn't been because neural networks are the magical solution to all our problems, although I desperately wish this were the case. It would be so nice if deep learning could fight my demons for me. \n",
        "\n",
        "Rather, it's because their flexibility allows them to excel at handling problems related to the unstructured data we've been workign with so far - images, audio, and text. \n",
        "\n",
        "When it comes to the structured, tabular data we'll be working with here, we'll make use of decision trees and gradient boosting machines. Simpler, but equally effective modeling techniques.\n",
        "\n",
        "Decision trees will be our tool of choice for tabular data for a number of reasons. They're typically faster and easier to train, requiring less specialized GPU hardware and hyperparameter tuning than neural networks. Libraries that implement decisions trees also have tools and methods for interpreting these models, such as visualizing which columns were the most important factors in making a prediction. \n",
        "\n",
        "Note: there are some instances where a neural network would be better for tabular data - like if one of the columns is unstructured data like a string of text.\n",
        "\n",
        "Yay, I'm now so excited to use decision trees. In fact why don't I use one to model this feeling. It'll try to predict if I am excited at any given moment or not. The condition it'll split on is \"are decision trees involved\" and it'll predict \"Yes\" if so, and \"No\" if not. Amazing, we already have an 100% accurate model.\n"
      ],
      "id": "e924f062"
    },
    {
      "cell_type": "code",
      "metadata": {},
      "source": [
        "creds = '{\"username\":\"alexanderzliu\",\"key\":\"59b8c0e913b2beb56e71628b918cba51\"}'\n",
        "\n",
        "cred_path = Path('~/.kaggle/kaggle.json').expanduser()\n",
        "if not cred_path.exists():4\n",
        "    cred_path.parent.mkdir(exist_ok=True)\n",
        "    cred_path.write_text(creds)\n",
        "    cred_path.chmod(0o600)\n",
        "\n",
        "comp = 'bluebook-for-bulldozers'\n",
        "path = URLs.path(comp)\n",
        "path\n",
        "\n",
        "Path.BASE_PATH = path\n",
        "\n",
        "from kaggle import api\n",
        "\n",
        "if not path.exists():\n",
        "    path.mkdir(parents=true)\n",
        "    api.competition_download_cli(comp, path=path)\n",
        "    shutil.unpack_archive(str(path/f'{comp}.zip'), str(path))\n",
        "\n",
        "path.ls(file_type='text')"
      ],
      "id": "48267130",
      "execution_count": null,
      "outputs": []
    },
    {
      "cell_type": "markdown",
      "metadata": {},
      "source": [
        "After setting up our data we'll read it in and look at some of the columns. Seems like there's a lot of columns for us to parse through\n"
      ],
      "id": "73db3751"
    },
    {
      "cell_type": "code",
      "metadata": {},
      "source": [
        "df = pd.read_csv(path/'TrainAndValid.csv', low_memory=False)\n",
        "df.columns"
      ],
      "id": "a84d4b51",
      "execution_count": null,
      "outputs": []
    },
    {
      "cell_type": "markdown",
      "metadata": {},
      "source": [
        "Let's take care of an 'ordinal' column. This is kinda a middle point between our categorical and continous variables where it means our variable is categorical, but the categories have a natural ordering. \n",
        "\n",
        "We'll make our 'ProductSize' column values take on the type 'category'. Then we can pass in a list of those categories with a specific order, setting the 'ordered' parameter to True. \n"
      ],
      "id": "f6b78e53"
    },
    {
      "cell_type": "code",
      "metadata": {},
      "source": [
        "print(f'Product Size levels: {df['ProductSize'].unique()}')\n",
        "sizes = 'Large','Large / Medium','Medium','Small','Mini','Compact'\n",
        "df['ProductSize'] = df['ProductSize'].astype('category')\n",
        "df['ProductSize'].cat.set_categories(sizes, ordered=True, inplace=True)"
      ],
      "id": "0b15aa71",
      "execution_count": null,
      "outputs": []
    },
    {
      "cell_type": "markdown",
      "metadata": {},
      "source": [
        "The Kaggle competition asks uses to use the root mean squared log error (RMSLE) between actual and predicted auction prices as our metric - our statistic informing us of how well our model is performing. Roots, logs and trees; data scientists can't get enough of plants.\n",
        "\n",
        "We'll take the log of our dependent variable now , the SalePrice, so that we can just use RMSE operations in the future to get our RMSLE.\n"
      ],
      "id": "cd116674"
    },
    {
      "cell_type": "code",
      "metadata": {},
      "source": [
        "dep_var = 'SalePrice'\n",
        "df[dep_var] = np.log(df[dep_var])"
      ],
      "id": "546c4ea3",
      "execution_count": null,
      "outputs": []
    },
    {
      "cell_type": "markdown",
      "metadata": {},
      "source": [
        "Below is an illustration of a decision tree. Who knew such a messed-up looking conifer could be so powerful. \n",
        "\n",
        "The tree asks a series of binary (yes/no) questions about the data. After each question, the data is split on branching yes/no paths. Eventually, the bottom of the tree (a leaf node) is reached, where that node will have a prediction for data point, which depends on the answers that led to that particular leaf node. \n",
        "\n",
        "In this example, we first answer a question about age. This leads to questions about either our diet or excercise habits, depending on our first answer. Then depending on this next answer, we're either labeled fit or unfit.\n",
        "\n",
        "You're all probably well aware of the category I fall into. As a super sexy data scientist, I am a indeed a fit model that fits models. \n",
        "\n",
        "![Decision Tree](decision_tree.PNG)\n",
        "\n",
        "Outside this toy example, our challenge will be to come up with this series of questions that will split our data into as distinct categories as possible, so that predictions we make are accurate because the conditions we split the data do a good job at discerning it from the other categories of our dependent variable. \n",
        "\n",
        "This is how we'll approach the construction process: \n",
        "\n",
        "1. Loop through each column of the dataset \n",
        "2. For each column, loop through each possible levels (values or categories) of that column\n",
        "3. Try splitting the data into two groups, based on whether they are greater than or less than that level if it is continous, or if it is a categorical variable, based on whether they are equal to or not equal to that level of that categorical variable.\n",
        "4. Find the average sale price for each of those two groups, and see how close that is to the actual sale price of each of the items of equipment in that group. We'll essentially create a very simple mini-model where our predictions will be the average sale price of the items that fall into our two groups after splitting. \n",
        "5. After looping through all columns and possible levels for each, pick the split point that gave the best predictions using that simple model.\n",
        "6. We now have two different groups for our data, based on this selected split. Treat each of these as separate datasets, repeat steps 1 - 5 for these new datasets.\n",
        "7. Continue this process recursively, until you have reached some stopping criterion for each group, e.g. stop splitting a group further when it has only a certain number of items in it.\n",
        "\n",
        "\n",
        "\n",
        "Let's talk about handling dates. Dates are interesting because they contain a lot of both continuous and categorical data. For example - they tell us how far away another target date is, but also what day of the week, month of the year, or even day of the year (like for important holidays) it is. \n",
        "\n",
        "We want to parse out all the data contained in our date, and will use a fastai function to do so - .add_datapart(), by passing in our data column in our train and test sets.\n"
      ],
      "id": "7e605e38"
    },
    {
      "cell_type": "code",
      "metadata": {},
      "source": [
        "df = add_datepart(df, 'saledate')\n",
        "df_test = pd.read_csv(path/'Test.csv', low_memory=False)\n",
        "df_test = add_datepart(df_test, 'saledate')\n",
        "' '.join(o for o in df.columns if o.startswith('sale'))"
      ],
      "id": "459540ac",
      "execution_count": null,
      "outputs": []
    },
    {
      "cell_type": "markdown",
      "metadata": {},
      "source": [
        "Predictions for our test set will be trying to predict the SalePrice for bull dozers sold in the future. To mimic the relationship that the test set will have with the rest of our data (being in the future), we will also separate our training and validation sets in a similar manner. \n",
        "\n",
        "We'll make our our training set data from before October 2011, and validation set comprise of sales after that date, so that we validate our model on data from after our training set, which our test set will also be. \n",
        "\n",
        "Using np.where() we can get the set of row indices that fulfill our date conditions."
      ],
      "id": "5a509426"
    },
    {
      "cell_type": "code",
      "metadata": {},
      "source": [
        "cond = (df.saleYear<2011) | (df.saleMonth<10)\n",
        "train_idx = np.where( cond)[0]\n",
        "valid_idx = np.where(~cond)[0]\n",
        "\n",
        "splits = (list(train_idx),list(valid_idx))"
      ],
      "id": "32208ad6",
      "execution_count": null,
      "outputs": []
    },
    {
      "cell_type": "markdown",
      "metadata": {},
      "source": [
        "Now let's start processing the rest of our data. We'll make use of the TabularPandas class, which is a wrapper for our dataframe that provides us access to some more convenient functions. \n",
        "\n",
        "We'll need to pass in a few things when creating our TabularPandas object. First the 'procs', which will are data processing operations we want applied. \n",
        "\n",
        "Categorify - turn columns into numerical category columns. \n",
        "FillMissing - fill rows with missing data (na) with the median of that column. \n",
        "\n",
        "Then, the continous and categorical variables, which we'll extract using the cont_cat_split() method. \n",
        "\n",
        "Finally, our y-label/dependent variable and the training/validation splits. \n"
      ],
      "id": "81c398e7"
    },
    {
      "cell_type": "code",
      "metadata": {},
      "source": [
        "procs = [Categorify, FillMissing]\n",
        "cont,cat = cont_cat_split(df, 1, dep_var=dep_var)\n",
        "to = TabularPandas(df, procs, cat, cont, y_names=dep_var, splits=splits)"
      ],
      "id": "d63ae4ea",
      "execution_count": null,
      "outputs": []
    },
    {
      "cell_type": "markdown",
      "metadata": {},
      "source": [
        "Taking a little bit of ac closer look at the 'Categorify' proc, we can see that the values are still represented as strings when we look at them, which is for our convenience in interpreting the data. \n"
      ],
      "id": "140a75a2"
    },
    {
      "cell_type": "code",
      "metadata": {},
      "source": [
        "to1 = TabularPandas(df, procs, ['state', 'ProductGroup', 'Drive_System', 'Enclosure'], [], y_names=dep_var, splits=splits)\n",
        "to1.show(3)"
      ],
      "id": "5446b9d5",
      "execution_count": null,
      "outputs": []
    },
    {
      "cell_type": "markdown",
      "metadata": {},
      "source": [
        "They're actually just stored as numbers where all of the levels in a column are replaced by numbers. The levels aren't indexed in any particular order, unless they ARE ordered as we saw in the ProductSize category. Otherwise, they're just assigned as unique levels are seen from the top to bottom of the data frame. \n"
      ],
      "id": "3c1ddfac"
    },
    {
      "cell_type": "code",
      "metadata": {},
      "source": [
        "to1.items[['state', 'ProductGroup', 'Drive_System', 'Enclosure']].head(3)"
      ],
      "id": "80a05ae7",
      "execution_count": null,
      "outputs": []
    },
    {
      "cell_type": "markdown",
      "metadata": {},
      "source": [
        "With this pre-processing done, let's save our work right now, which will be us pickling our TabularPandas object. YUM I LOVE DILL.\n"
      ],
      "id": "3f531d9f"
    },
    {
      "cell_type": "code",
      "metadata": {},
      "source": [
        "save_pickle(path/'to.pkl',to)"
      ],
      "id": "00aab847",
      "execution_count": null,
      "outputs": []
    },
    {
      "cell_type": "markdown",
      "metadata": {},
      "source": [
        "Okay, lets start to actually create a decision tree. We'll use the .train and .valid attributes from our TabularPandas object to split our dataset.\n"
      ],
      "id": "ab81cbb8"
    },
    {
      "cell_type": "code",
      "metadata": {},
      "source": [
        "to = load_pickle(path/'to.pkl')\n",
        "xs,y = to.train.xs,to.train.y\n",
        "valid_xs,valid_y = to.valid.xs,to.valid.y"
      ],
      "id": "62aace53",
      "execution_count": null,
      "outputs": []
    },
    {
      "cell_type": "markdown",
      "metadata": {},
      "source": [
        "Then we'll use the DecisionTreeRegressor class from sklearn (a nice library for non-deep learning machine learning models)\n",
        "\n",
        "We'll pass in an argument for the maximum leaf nodes it should have, fit it (which will be done through the 7-step method done mentioned above) "
      ],
      "id": "0c07646c"
    },
    {
      "cell_type": "code",
      "metadata": {},
      "source": [
        "m = DecisionTreeRegressor(max_leaf_nodes=4)\n",
        "m.fit(xs, y);"
      ],
      "id": "da3c5455",
      "execution_count": null,
      "outputs": []
    },
    {
      "cell_type": "markdown",
      "metadata": {},
      "source": [
        "Here we can take a look at the tree. For each node it tells us the condition and value that it branches on (except for the leaf nodes), the squared error, the number of samples contained in that particular node, and the value, which is the average of the samples dependent variable. \n"
      ],
      "id": "60dc2755"
    },
    {
      "cell_type": "code",
      "metadata": {},
      "source": [
        "draw_tree(m, xs, size=10, leaves_parallel=True, precision=2)"
      ],
      "id": "687ac389",
      "execution_count": null,
      "outputs": []
    },
    {
      "cell_type": "markdown",
      "metadata": {},
      "source": [
        "There are some bulldozers that were somehow made in the year 1000, which is cap because dirt wasn't even invented back then. We'll just make the earliest manufacturing year 1950. \n"
      ],
      "id": "8447a9e0"
    },
    {
      "cell_type": "code",
      "metadata": {},
      "source": [
        "xs.loc[xs['YearMade']<1900, 'YearMade'] = 1950\n",
        "valid_xs.loc[valid_xs['YearMade']<1900, 'YearMade'] = 1950"
      ],
      "id": "26e7f8f4",
      "execution_count": null,
      "outputs": []
    },
    {
      "cell_type": "markdown",
      "metadata": {},
      "source": [
        "Let's make a new model. It'll be larger because we aren't specifying any stopping points. As a default, it'll create levels until all the leaves are pure - that is, they only have samples from one level of our dependent variable. \n",
        "\n",
        "We'll also create  a funciton for our models root mean squared error. \n"
      ],
      "id": "8556e1ac"
    },
    {
      "cell_type": "code",
      "metadata": {},
      "source": [
        "m = DecisionTreeRegressor()\n",
        "m.fit(xs, y);\n",
        "def r_mse(pred,y): return round(math.sqrt(((pred-y)**2).mean()), 6)\n",
        "def m_rmse(m, xs, y): return r_mse(m.predict(xs), y)"
      ],
      "id": "90562b4f",
      "execution_count": null,
      "outputs": []
    },
    {
      "cell_type": "markdown",
      "metadata": {},
      "source": [
        "A perfect model. JK it is not my bubu (that's my pet name for my girlfriend - I am pandering to her :D). Our error is 0 on the validation set because we've create a huge tree with pure leaf nodes. The validation set's error is quite a bit higher. \n"
      ],
      "id": "52359efb"
    },
    {
      "cell_type": "code",
      "metadata": {},
      "source": [
        "print(f\"Training set RMSE: {m_rmse(m, xs, y)}\")\n",
        "print(f\"Validation set RMSE: {m_rmse(m, valid_xs, valid_y)}\")"
      ],
      "id": "1086435f",
      "execution_count": null,
      "outputs": []
    },
    {
      "cell_type": "markdown",
      "metadata": {},
      "source": [
        "That's cause our model is vastly overfitted. We can see that there are almost as many leaves as samples. This means that our model won't generalize well to unseen data because it's too specific (re: overfitted).  \n"
      ],
      "id": "b1cf97e6"
    },
    {
      "cell_type": "code",
      "metadata": {},
      "source": [
        "m.get_n_leaves(), len(xs)"
      ],
      "id": "1b8afe7a",
      "execution_count": null,
      "outputs": []
    },
    {
      "cell_type": "markdown",
      "metadata": {},
      "source": [
        "Let's fix this overfitting a bit. Now we'll stop our tree creation when there are less than 25 samples in a leaf. This should make it generalize more well. \n",
        "\n",
        "You can think about this as the model not uncovering patterns or relationships between our independent variables and dependent variable (e.g. newer bulldozers having higher sale prices). Instead our model is essentially memorizing the decision path it needs for a specific sample (e.g. This bulldozers sale price is 12. It has a Drive_System of X, Enclosure of Y, state is ...and so on and so forth for all of our independent variables. The tree is going to split on all of these and create a leaf node with a value of 12). \n"
      ],
      "id": "c6256361"
    },
    {
      "cell_type": "code",
      "metadata": {},
      "source": [
        "m = DecisionTreeRegressor(min_samples_leaf=25)\n",
        "m.fit(to.train.xs, to.train.y)\n",
        "m_rmse(m, xs, y), m_rmse(m, valid_xs, valid_y)"
      ],
      "id": "929e5b54",
      "execution_count": null,
      "outputs": []
    },
    {
      "cell_type": "markdown",
      "metadata": {},
      "source": [
        "Let's talk about bagging. There are many types of bagging you might be familiar with - sandbagging, carpetbagging, teabagging. But today we're dealing with some pure, unadultered bagging. \n",
        "\n",
        "Bagging is basically getting predictions from a bunch of different models and taking the average of those predictions to use as our prediction. It's a specific 'ensembling' approach, where multiple models are used to get your prediction. Here's how we'll bag:\n",
        "\n",
        "1. Choose a random subset of our data  \n",
        "2. Train a model using this subset \n",
        "3. Repeat steps 1 & 2 a number of times \n",
        "4. Make a prediction with all our models and then take the average of each of those model's predictions to use as our prediction\n",
        "\n",
        "This approach works because by training our models on different sets of the data will produce uncorrelated error for our predictions, which should average out to 0.\n",
        "\n",
        "Random forests is the technique when you bag with decision trees. Specifically, they not only use a random subset of the data for each tree's training, but also choose from a random subset of the columns when deciding each split for the decision trees, essentially enforcing some variety in the splits of the trees.\n",
        "\n",
        "Let's start training a random forest of our own. There are some parameters we should go over here. \n",
        "- n_estimators: The number of decision trees in our random forest \n",
        "- max_samples: the number of samples we should take from our dataset to train each of our decision trees\n",
        "- max_features: The proportion of total columns to potentiallly split on at each level (.5 means we'll consider half of the columns we have to split on at a given level)\n",
        "- min_samples_leaf: minimum number of samples a leaf should have \n",
        "- n_jobs: CPU-related argument; probably don't need to worry about this too much \n"
      ],
      "id": "882f9839"
    },
    {
      "cell_type": "code",
      "metadata": {},
      "source": [
        "def rf(xs, y, n_estimators=40, max_samples=200_000,\n",
        "       max_features=0.5, min_samples_leaf=5, **kwargs):\n",
        "    return RandomForestRegressor(n_jobs=-1, n_estimators=n_estimators,\n",
        "        max_samples=max_samples, max_features=max_features,\n",
        "        min_samples_leaf=min_samples_leaf, oob_score=True).fit(xs, y)"
      ],
      "id": "2c17ca8a",
      "execution_count": null,
      "outputs": []
    },
    {
      "cell_type": "markdown",
      "metadata": {},
      "source": [
        "We can see how our error has improved with this random forest as compared to our singular decision tree. A cool thing about random forests is that they aren't super sensitive to hyperparmeter changes, and work pretty well right off the bat with just their default arguments. \n"
      ],
      "id": "5a1b417c"
    },
    {
      "cell_type": "code",
      "metadata": {},
      "source": [
        "m = rf(xs, y)\n",
        "m_rmse(m, xs, y), m_rmse(m, valid_xs, valid_y)"
      ],
      "id": "933a1a2d",
      "execution_count": null,
      "outputs": []
    },
    {
      "cell_type": "markdown",
      "metadata": {},
      "source": [
        "After plotting our error as a function of the number of decision trees in our forest, we can see the error goes down until tapering out at around 30. \n"
      ],
      "id": "15c2a688"
    },
    {
      "cell_type": "code",
      "metadata": {},
      "source": [
        "preds = np.stack([t.predict(valid_xs) for t in m.estimators_])\n",
        "plt.plot([r_mse(preds[:i+1].mean(0), valid_y) for i in range(40)]);"
      ],
      "id": "52427f19",
      "execution_count": null,
      "outputs": []
    },
    {
      "cell_type": "markdown",
      "metadata": {},
      "source": [
        "Let's talk about OOBE. This fun little acronym stands for 'out of bag error' - an phrase that's even more fun! This is our error for the rows that weren't part of the random sample used in training our particular decision tree. \n",
        "\n",
        "This is lower than our validation error, so there must be something bumping that number up. \n"
      ],
      "id": "1ec45830"
    },
    {
      "cell_type": "code",
      "metadata": {},
      "source": [
        "r_mse(m.oob_prediction_, y)"
      ],
      "id": "51cf758b",
      "execution_count": null,
      "outputs": []
    },
    {
      "cell_type": "markdown",
      "metadata": {},
      "source": [
        "Our preds is a stacked array of all of our trees' predictions of all of the auctions. It's got a shape of (40, 7900), which corresponds to 40 rows, one for each of our trees, and over 7000 columns, one for each of the auctions. \n",
        "\n",
        "We'll get the standard deviation of our predictions along the 0-index axis, which is between all our trees for a given auction. This value can be interpreted as how much our trees agree on their predictions for a given auction. We can see our the different values of standard deviations from our first 5 auctions how much the models (dis)agree on their predictions.  \n"
      ],
      "id": "bd87b87c"
    },
    {
      "cell_type": "code",
      "metadata": {},
      "source": [
        "preds_std = preds.std(0)\n",
        "preds_std[:5]"
      ],
      "id": "702ea090",
      "execution_count": null,
      "outputs": []
    },
    {
      "cell_type": "markdown",
      "metadata": {},
      "source": [
        "Not all features are created equal. Some of our columns might be used more than others to determine a split, or will result in a split that partitions the dataset in a significant manner. These will be of particular importance to us in being a more significant indicator of our dependent variable. If only there was some way to the determine the importance of our features. Our feature importance, if you will...\n",
        "\n",
        "WELL WE'RE IN LUCK! Our random forest object has an attribute that will tell us the importances of our features, aptly named .feature_importances_.\n",
        "\n",
        "Let's take a look at our most important features.\n"
      ],
      "id": "cff99b5d"
    },
    {
      "cell_type": "code",
      "metadata": {},
      "source": [
        "def rf_feat_importance(m, df):\n",
        "    return pd.DataFrame({'cols':df.columns, 'imp':m.feature_importances_}\n",
        "                       ).sort_values('imp', ascending=False)\n",
        "fi = rf_feat_importance(m, xs)\n",
        "fi[:10]"
      ],
      "id": "998c865f",
      "execution_count": null,
      "outputs": []
    },
    {
      "cell_type": "markdown",
      "metadata": {},
      "source": [
        "The way that importance is calculated, is that all branches of all the decision trees are iterated through. The 'improvement' of the model as a result of that split (usually measured by the gini or impurity reduction) is weighted by the number of samples in that node, and is summed for each feature across all branches of all trees. These sums are then normalized to 1. \n"
      ],
      "id": "0df6315f"
    },
    {
      "cell_type": "code",
      "metadata": {},
      "source": [
        "def plot_fi(fi):\n",
        "    return fi.plot('cols', 'imp', 'barh', figsize=(12,7), legend=False)\n",
        "\n",
        "plot_fi(fi[:30]);"
      ],
      "id": "b15a2fb5",
      "execution_count": null,
      "outputs": []
    },
    {
      "cell_type": "markdown",
      "metadata": {},
      "source": [
        "Let's focus on just what's important. We'll remove all the columns with a really small feature importance value and train another model on our only important columns. \n",
        "\n",
        "We can see that the performance is basically the same as our model trained on the entire dataset, but now the task of scrutinizing is much more manageable with this subset of columns. \n",
        "\n",
        "Let's make it a habit of simplying our model when possible as one of the first things we do to try and improve it. \n"
      ],
      "id": "6e349248"
    },
    {
      "cell_type": "code",
      "metadata": {},
      "source": [
        "to_keep = fi[fi.imp>0.005].cols\n",
        "len(to_keep)\n",
        "xs_imp = xs[to_keep]\n",
        "valid_xs_imp = valid_xs[to_keep]\n",
        "m = rf(xs_imp, y)\n",
        "print(f\"Important feature training error: {m_rmse(m, xs_imp, y)}, Important feature valid error: {m_rmse(m, valid_xs_imp, valid_y)}\")\n",
        "print(f\" All columns: {len(xs.columns)}, Important columns: {len(xs_imp.columns)}\")"
      ],
      "id": "b2816846",
      "execution_count": null,
      "outputs": []
    },
    {
      "cell_type": "markdown",
      "metadata": {},
      "source": [
        "Another step we can take to simplying our model (by removing unnecessary columns) is to remove redundant ones. Here's a visualization of the our most similar columns. \n",
        "\n",
        "As expected, something like 'saleYear' and 'saleElapsed' are very similar. Even though they might have different values, the model will be able to extract the same insights - how long ago it was sold - from the columns. \n"
      ],
      "id": "5184cda7"
    },
    {
      "cell_type": "code",
      "metadata": {},
      "source": [
        "cluster_columns(xs_imp)"
      ],
      "id": "2172443a",
      "execution_count": null,
      "outputs": []
    },
    {
      "cell_type": "markdown",
      "metadata": {},
      "source": [
        "Let's experiment to see if dropping columns has any affect on our performance (hint: if we're making a point to illustrate this technique it probably won't). I'm a big fan of dropping things - the beat, some bars, some facts, and columns are no exception. \n",
        "\n",
        "This method will give us our OOB score, and the parameters to the model we're training in this function are set up to train it quickly. We can see the baseline OOB error for our model with all important columns below.\n"
      ],
      "id": "573d7530"
    },
    {
      "cell_type": "code",
      "metadata": {},
      "source": [
        "def get_oob(df):\n",
        "    m = RandomForestRegressor(n_estimators=40, min_samples_leaf=15,\n",
        "        max_samples=50000, max_features=0.5, n_jobs=-1, oob_score=True)\n",
        "    m.fit(df, y)\n",
        "    return m.oob_score_\n",
        "\n",
        "get_oob(xs_imp)"
      ],
      "id": "2c630a3e",
      "execution_count": null,
      "outputs": []
    },
    {
      "cell_type": "markdown",
      "metadata": {},
      "source": [
        "Dropping one of each our potentially redudant variables at a time, the OOB error doesn't change much. \n"
      ],
      "id": "2fcfdd59"
    },
    {
      "cell_type": "code",
      "metadata": {},
      "source": [
        "{c:get_oob(xs_imp.drop(c, axis=1)) for c in (\n",
        "    'saleYear', 'saleElapsed', 'ProductGroupDesc','ProductGroup',\n",
        "    'fiModelDesc', 'fiBaseModel',\n",
        "    'Hydraulics_Flow','Grouser_Tracks', 'Coupler_System')}"
      ],
      "id": "55045d46",
      "execution_count": null,
      "outputs": []
    },
    {
      "cell_type": "markdown",
      "metadata": {},
      "source": [
        "Even dropping multiple redundant columns at a time still holds up\n"
      ],
      "id": "9e0dba01"
    },
    {
      "cell_type": "code",
      "metadata": {},
      "source": [
        "to_drop = ['saleYear', 'ProductGroupDesc', 'fiBaseModel', 'Grouser_Tracks']\n",
        "get_oob(xs_imp.drop(to_drop, axis=1))"
      ],
      "id": "0150e2ca",
      "execution_count": null,
      "outputs": []
    },
    {
      "cell_type": "markdown",
      "metadata": {},
      "source": [
        "Let's create a dataframe with our dropped variables (and save it as a good practice).\n",
        "\n",
        "As a final check, we'll look at the validation errors from this random forest model training on our dataset with redundancies eliminated. Looks pretty similar to our performance from having the entire dataset, so it looks like we've been able to effectively simplify our model even further. I told you it would all work out.\n"
      ],
      "id": "bc1dba27"
    },
    {
      "cell_type": "code",
      "metadata": {},
      "source": [
        "xs_final = xs_imp.drop(to_drop, axis=1) #create dataframe without dropped columns\n",
        "valid_xs_final = valid_xs_imp.drop(to_drop, axis=1) #create dataframe without dropped columns\n",
        "save_pickle(path/'xs_final.pkl', xs_final) #save df\n",
        "save_pickle(path/'valid_xs_final.pkl', valid_xs_final) #save df\n",
        "xs_final = load_pickle(path/'xs_final.pkl') #reload df\n",
        "valid_xs_final = load_pickle(path/'valid_xs_final.pkl') #reload df\n",
        "m = rf(xs_final, y) #train random forest model\n",
        "m_rmse(m, xs_final, y), m_rmse(m, valid_xs_final, valid_y) #get validation error"
      ],
      "id": "f4f30460",
      "execution_count": null,
      "outputs": []
    },
    {
      "cell_type": "markdown",
      "metadata": {},
      "source": [
        "Now let's talk about 'partial dependence'. These plots try and isolate the effect that a single independent variable has on our dependent variable, without that relationship being affected by changes in our other variables. \n",
        "\n",
        "How this will work is we'll take every level of our independent variable (IV) in question (we're looking at 'YearMade' and 'ProductSize' in this example because they are our most important features) and for our entire dataset, replace every value of that independent variable with one of the levels of our IV. Then we'll use our model to make predictions , where all our other features are the same as before, except for our IV which has had all of its values swapped with one of its levels. Then we'll repeat this process for every level in that IV. This will give us predictions where everything is held constant except for the IV we're investigating.\n",
        "\n",
        "This translates to our working dataset by keeping all the columns the same except 'YearMade'. We'll replace all the values in that column with 1950, make our predictions, take the average, and that'll be our prediction for bulldozers from 1950. Then we'll replace all the values in the column with 1951, and rinse and repeat with making and averaging predictions for all the levels in the 'YearMade' column.\n",
        "\n",
        "In plotting this, we can see that the year and price have a very strong, positively correlated relationship, as we'd except. The 'ProductSize' doesn't quite have as clean a relationship though, which we'll talk about shortly. \n"
      ],
      "id": "fc62025c"
    },
    {
      "cell_type": "code",
      "metadata": {},
      "source": [
        "from sklearn.inspection import plot_partial_dependence\n",
        "\n",
        "fig,ax = plt.subplots(figsize=(12, 4))\n",
        "plot_partial_dependence(m, valid_xs_final, ['YearMade','ProductSize'],\n",
        "                        grid_resolution=20, ax=ax);"
      ],
      "id": "74e36ae8",
      "execution_count": null,
      "outputs": []
    },
    {
      "cell_type": "code",
      "metadata": {},
      "source": [
        "DATA LEAKAGE"
      ],
      "id": "235d31b3",
      "execution_count": null,
      "outputs": []
    },
    {
      "cell_type": "markdown",
      "metadata": {},
      "source": [
        "We've seen how much an impact our features have aggregated across our entire dataset, but what if we wanted to drill down into a single row and analyze how our features influenced the prediction for that one data point? \n",
        "\n",
        "We can do this with the treeinterpreter library. \n",
        "\n",
        "Let's pass in the first 5 rows of our validation set and pass them to our treeinterpreter, along with our model.\n",
        "\n",
        "The output we'll get from the .predict() method is:\n",
        "- prediction: self-explanatory (our prediction from our random forest)\n",
        "- bias: the prediction we'd get just by taking the mean of our dependent variable. This would be equivalent to if our model was just the root of the tree with no branches\n",
        "- contributions: The increase or decrease in our prediction based on branch split we take on our path to a leaf node a.k.a the change in our prediction caused by the independent variables. Summing this up, and adding it to our bias will equal the prediction. \n"
      ],
      "id": "895de6fe"
    },
    {
      "cell_type": "code",
      "metadata": {},
      "source": [
        "row = valid_xs_final.iloc[:5]\n",
        "prediction,bias,contributions = treeinterpreter.predict(m, row.values)"
      ],
      "id": "4c061b9c",
      "execution_count": null,
      "outputs": []
    },
    {
      "cell_type": "markdown",
      "metadata": {},
      "source": [
        "Plotting these contributions, we can visualize the impact that each of the independent variables had on our prediction. \n"
      ],
      "id": "c7b232fc"
    },
    {
      "cell_type": "code",
      "metadata": {},
      "source": [
        "waterfall(valid_xs_final.columns, contributions[0], threshold=0.08, \n",
        "          rotation_value=45,formatting='{:,.3f}');"
      ],
      "id": "640ce003",
      "execution_count": null,
      "outputs": []
    },
    {
      "cell_type": "markdown",
      "metadata": {},
      "source": [
        "We've covered some pretty effective yet simple ways of improving and interpreting our model. But it's not all sunshine and rainbows when it comes to machine learning. \n",
        "\n",
        "Random forests have a pretty large issue when it comes to extrapolating data - that is making predictions for data it hasn't seen before, that we'll illustrate in an example. \n",
        "\n",
        "Let's train a model on the first 30 rows of a slightly noisy but mostly linear dataset"
      ],
      "id": "b175a8a1"
    },
    {
      "cell_type": "code",
      "metadata": {},
      "source": [
        "np.random.seed(42)\n",
        "x_lin = torch.linspace(0,20, steps=40)\n",
        "y_lin = x_lin + torch.randn_like(x_lin)\n",
        "plt.scatter(x_lin, y_lin);\n",
        "xs_lin = x_lin.unsqueeze(1)\n",
        "x_lin.shape,xs_lin.shape\n",
        "x_lin[:,None].shape\n",
        "m_lin = RandomForestRegressor().fit(xs_lin[:30],y_lin[:30])"
      ],
      "id": "b883d245",
      "execution_count": null,
      "outputs": []
    },
    {
      "cell_type": "markdown",
      "metadata": {},
      "source": [
        "When we try to make a prediction on the rest of the dataset (the data is blue, our predictions are red). From this graph, we can see that predictions for an x-value greater than 12.5 are all too low, with them all being around 16. \n",
        "\n",
        "This is because of how are predictions are generated. Remember that they're just the average of the dependent variable values for the samples in our leaf nodes. Thus, they'll all be a fixed number, based on data that the model has seen before. So when it makes predictions on new data, it's essentially saying \"you're closest to this group that I've seen before, so that'll be your prediction. You might actually be really far off from this group, but you're even farther off from all the other groups, so that's the best I can do for you. \"\n"
      ],
      "id": "df0f39fd"
    },
    {
      "cell_type": "code",
      "metadata": {},
      "source": [
        "plt.scatter(x_lin, y_lin, 20)\n",
        "plt.scatter(x_lin, m_lin.predict(xs_lin), color='red', alpha=0.5);"
      ],
      "id": "df8e9afc",
      "execution_count": null,
      "outputs": []
    },
    {
      "cell_type": "markdown",
      "metadata": {},
      "source": [
        "With this extrapolation problem in mind, we want to make sure the distribution of our training and validation sets is similar - that our validation set does not contain any 'Out-of-Domain' data. \n",
        "\n",
        "We can assess the distribution of our training and validation sets in a pretty clever way. Let's combine the two, and instead of trying to predict a SalesPrice, introduce a new dependent variable which will be whether or not the data was originally in the training or validation set, and try to predict that. \n",
        "\n",
        "Looking at the features that are most important in discerning the original set of a sample, we see the top 3 are 'saleElapsed', 'SalesID', and 'MachineID'. This makes sense since the original way we split up the set was by the date. \n"
      ],
      "id": "0820a555"
    },
    {
      "cell_type": "code",
      "metadata": {},
      "source": [
        "df_dom = pd.concat([xs_final, valid_xs_final])\n",
        "is_valid = np.array([0]*len(xs_final) + [1]*len(valid_xs_final))\n",
        "\n",
        "m = rf(df_dom, is_valid)\n",
        "rf_feat_importance(m, df_dom)[:6]"
      ],
      "id": "1f075a35",
      "execution_count": null,
      "outputs": []
    },
    {
      "cell_type": "markdown",
      "metadata": {},
      "source": [
        "Let's use a technique we used above, and see what the performance of our model would be when one of these columns is removed. \n"
      ],
      "id": "f414d6f5"
    },
    {
      "cell_type": "code",
      "metadata": {},
      "source": [
        "m = rf(xs_final, y)\n",
        "print('orig', m_rmse(m, valid_xs_final, valid_y))\n",
        "\n",
        "for c in ('SalesID','saleElapsed','MachineID'):\n",
        "    m = rf(xs_final.drop(c,axis=1), y)\n",
        "    print(c, m_rmse(m, valid_xs_final.drop(c,axis=1), valid_y))"
      ],
      "id": "dc5db030",
      "execution_count": null,
      "outputs": []
    },
    {
      "cell_type": "markdown",
      "metadata": {},
      "source": [
        "We'll drop the 'SalesID' and 'MachineID' columns, which actually improves the accuracy of our model. \n"
      ],
      "id": "613d8fc6"
    },
    {
      "cell_type": "code",
      "metadata": {},
      "source": [
        "time_vars = ['SalesID','MachineID']\n",
        "xs_final_time = xs_final.drop(time_vars, axis=1)\n",
        "valid_xs_time = valid_xs_final.drop(time_vars, axis=1)\n",
        "\n",
        "m = rf(xs_final_time, y)\n",
        "m_rmse(m, valid_xs_time, valid_y)"
      ],
      "id": "60a46c64",
      "execution_count": null,
      "outputs": []
    },
    {
      "cell_type": "markdown",
      "metadata": {},
      "source": [
        "Another thing that can help is to make sure we're only using relevant data. Since it seems like the age of the bulldozer is a very important feature to our predictions, we'll actually just use a subset of our data, the most recent 20 years or so, to train our model so that any outdated relationships aren't captured in our dataset. \n"
      ],
      "id": "7f1298c4"
    },
    {
      "cell_type": "code",
      "metadata": {},
      "source": [
        "xs['saleYear'].hist();\n",
        "filt = xs['saleYear']>2004\n",
        "xs_filt = xs_final_time[filt]\n",
        "y_filt = y[filt]"
      ],
      "id": "49c72658",
      "execution_count": null,
      "outputs": []
    },
    {
      "cell_type": "markdown",
      "metadata": {},
      "source": [
        "This model trained on only data from after 2004 is performing better than anything else we've seen so far. \n"
      ],
      "id": "ad0b6676"
    },
    {
      "cell_type": "code",
      "metadata": {},
      "source": [
        "m = rf(xs_filt, y_filt)\n",
        "m_rmse(m, xs_filt, y_filt), m_rmse(m, valid_xs_time, valid_y)"
      ],
      "id": "71c9fdf4",
      "execution_count": null,
      "outputs": []
    },
    {
      "cell_type": "markdown",
      "metadata": {},
      "source": [
        "Alright, would we really be data scientists if we didn't throw a neural network at everything? Let's see how they can help. Let's pre-process our data the same way we did before passing it into the TabularPandas object, and also use only the subset of columns that we've analyzed to be most relevant. \n"
      ],
      "id": "a76a9188"
    },
    {
      "cell_type": "code",
      "metadata": {},
      "source": [
        "df_nn = pd.read_csv(path/'TrainAndValid.csv', low_memory=False)\n",
        "df_nn['ProductSize'] = df_nn['ProductSize'].astype('category')\n",
        "df_nn['ProductSize'].cat.set_categories(sizes, ordered=True, inplace=True)\n",
        "df_nn[dep_var] = np.log(df_nn[dep_var])\n",
        "df_nn = add_datepart(df_nn, 'saledate')\n",
        "df_nn_final = df_nn[list(xs_final_time.columns) + [dep_var]]"
      ],
      "id": "9c95206f",
      "execution_count": null,
      "outputs": []
    },
    {
      "cell_type": "markdown",
      "metadata": {},
      "source": [
        "We'll also have to handle categorical and continous variables differently with neural networks, because we can use embeddings here. We'll use the cont_cat_split function and pass in a 'max_card' argument, which will treat variables as categorical if there are less levels than max_card. \n"
      ],
      "id": "d9d382dc"
    },
    {
      "cell_type": "code",
      "metadata": {},
      "source": [
        "cont_nn,cat_nn = cont_cat_split(df_nn_final, max_card=9000, dep_var=dep_var)"
      ],
      "id": "f9ec849f",
      "execution_count": null,
      "outputs": []
    },
    {
      "cell_type": "markdown",
      "metadata": {},
      "source": [
        "Our 'saleElapsed' column is treated as a continous variable, which is what we want because we wouldn't be able to extrapolate for sales in the future if it was a categorical variable. \n"
      ],
      "id": "364a5fd4"
    },
    {
      "cell_type": "code",
      "metadata": {},
      "source": [
        "cont_nn"
      ],
      "id": "8e20bff8",
      "execution_count": null,
      "outputs": []
    },
    {
      "cell_type": "markdown",
      "metadata": {},
      "source": [
        "It looks like we have two categories with a lot of unique values. fiModelDesc has over 5000 and sound sjust like fiModelDescriptor. They literally just sound redundant, so let's see if we can get away with removing one of them (hint: it won't)\n"
      ],
      "id": "d4cecd44"
    },
    {
      "cell_type": "code",
      "metadata": {},
      "source": [
        "df_nn_final[cat_nn].nunique()"
      ],
      "id": "bb07c421",
      "execution_count": null,
      "outputs": []
    },
    {
      "cell_type": "markdown",
      "metadata": {},
      "source": [
        "Hint: it didn't\n"
      ],
      "id": "5924a8a0"
    },
    {
      "cell_type": "code",
      "metadata": {},
      "source": [
        "xs_filt2 = xs_filt.drop('fiModelDescriptor', axis=1)\n",
        "valid_xs_time2 = valid_xs_time.drop('fiModelDescriptor', axis=1)\n",
        "m2 = rf(xs_filt2, y_filt)\n",
        "print(m_rmse(m2, xs_filt2, y_filt), m_rmse(m2, valid_xs_time2, valid_y))\n",
        "\n",
        "cat_nn.remove('fiModelDescriptor')"
      ],
      "id": "29292ac7",
      "execution_count": null,
      "outputs": []
    },
    {
      "cell_type": "markdown",
      "metadata": {},
      "source": [
        "Now that we've done some exploration and refinement of our dataset we can create a TabularPandas object to handle the rest of our processing. We'll use a large batch size because tabular models are generally GPU RAM friendly. \n"
      ],
      "id": "4ea74671"
    },
    {
      "cell_type": "code",
      "metadata": {},
      "source": [
        "procs_nn = [Categorify, FillMissing, Normalize]\n",
        "to_nn = TabularPandas(df_nn_final, procs_nn, cat_nn, cont_nn,\n",
        "                      splits=splits, y_names=dep_var)\n",
        "\n",
        "dls = to_nn.dataloaders(1024)"
      ],
      "id": "c54975b4",
      "execution_count": null,
      "outputs": []
    },
    {
      "cell_type": "markdown",
      "metadata": {},
      "source": [
        "We'll create our tabular model with the tabular_learner class. We specify a y_range for our regression model, based on the max and mins we see in the training set. Since we have a lot of data, we'll make our layers a bit larger, and use MSE as our loss function as defined in the Kaggle competition. \n"
      ],
      "id": "61bbbca7"
    },
    {
      "cell_type": "code",
      "metadata": {},
      "source": [
        "y = to_nn.train.y\n",
        "print(y.min(),y.max())\n",
        "learn = tabular_learner(dls, y_range=(8,12), layers=[500,250],\n",
        "                        n_out=1, loss_func=F.mse_loss)\n"
      ],
      "id": "cd532777",
      "execution_count": null,
      "outputs": []
    },
    {
      "cell_type": "markdown",
      "metadata": {},
      "source": [
        "Using the lr_find() method to get our optimal learning rate, let's train the model for a few epochs.\n"
      ],
      "id": "7527fe7e"
    },
    {
      "cell_type": "code",
      "metadata": {},
      "source": [
        "learn.lr_find()\n",
        "learn.fit_one_cycle(5, 1e-2)"
      ],
      "id": "6ee71478",
      "execution_count": null,
      "outputs": []
    },
    {
      "cell_type": "markdown",
      "metadata": {},
      "source": [
        "Using it for predictions, we can see that it does a better job than our random forest. The trade off is that it took longer to train, and we need to do some more work to find the hyperparameters that allowed it to perform so well. \n"
      ],
      "id": "ba84ca8a"
    },
    {
      "cell_type": "code",
      "metadata": {},
      "source": [
        "preds,targs = learn.get_preds()\n",
        "learn.save('nn') #save model incase we want to come back to it\n",
        "print(r_mse(preds,targs))"
      ],
      "id": "cf66f948",
      "execution_count": null,
      "outputs": []
    },
    {
      "cell_type": "markdown",
      "metadata": {},
      "source": [
        "Let's take ensembling even further. Our random forest was an ensemble of decision trees, but there's no rules saying that we have to use the same architecture model architecture. We'll combine our already ensembled model, the random forest, and our neural network and create an enseensemblemble.\n",
        "\n",
        "We'll need to convert their outputs to the same shape and object type, but after doing that we can see the average of the predictions from these two models is better than either of them separately. \n"
      ],
      "id": "5fedc297"
    },
    {
      "cell_type": "code",
      "metadata": {},
      "source": [
        "rf_preds = m.predict(valid_xs_time)\n",
        "ens_preds = (to_np(preds.squeeze()) + rf_preds) /2\n",
        "r_mse(ens_preds,valid_y)"
      ],
      "id": "74da6bf8",
      "execution_count": null,
      "outputs": []
    },
    {
      "cell_type": "markdown",
      "metadata": {},
      "source": [
        "Let's quickly talk about another decision tree ensemble - gradient boosting machines. Instead of taking the average of a bunch of predictions like in random forest, with gradient boosting our final prediction will come from the sum of our set of predictions. It works like so:\n",
        "\n",
        "1. Train a small model that will inevitably underfit the data set\n",
        "2. Calculate the predictions in the training set for this model\n",
        "3. Subtract the predictions from the targets to get our 'residuals' which is our error for each of our data points\n",
        "4. Repeat steps 1 - 3, but instead of using our original targets, we now target our residuals calculated from the last iteration instead\n",
        "5. Continue doing this until you reach some stopping criterion e.g. a max number of trees is created, or our validation error is getting worse. \n",
        "\n",
        "By doing this, we're sequentially trying to build another tree that will bridge the gap that the last one had between the predictions and target (which are our residuals after the first tree), over and over again.\n",
        "\n",
        "Then, to get our final prediction, we sum up all of the predictions we get from the trees in our ensemble. \n",
        "\n",
        "Let's finish of this entry with some more of our favorite thing: text explanations. We actually ended up doing a lot of different, useful things this notebook and I want to recap them.\n",
        "\n",
        "We took a look at 3 different models:\n",
        "\n",
        "1. Random Forests:\n",
        "    Pros: \n",
        "     - Fast to train\n",
        "     - Easy to get started with by requiring minimal preprocessing or hyperparameter tuning\n",
        "     - Resilient to overfitting with enough trees\n",
        "     - Can provide insight into data with partial dependence analysis or feature importance\n",
        "    Cons:\n",
        "     - May be less accurate than other approaches, and if extrapolation is needed then thats a problem\n",
        "2. Neural Networks:\n",
        "    Pros:\n",
        "    - Good results & extrapolate well\n",
        "    - Can use parts (embedding layer) in other models even if the predictions/rest of the layers aren't\n",
        "    Cons:\n",
        "    - Long to train\n",
        "    - Finnicky -> requires more preprocessing and hyperparameter tuning to get good performance\n",
        "    - Can overfit\n",
        "3. Gradient Boosting:\n",
        "    Pros:\n",
        "    - Fast to train (about the same as random forest)\n",
        "    - Can be more accurate than random forest\n",
        "    Cons:\n",
        "    - Require hyperparameter tuning\n",
        "    - Can overfit\n",
        "\n",
        "\n",
        "And also did some important work in data exploration and processing our data set to improve our results, and understanding of our data. \n",
        "\n",
        "We:\n",
        "- Look at feature importance to determine our most impact columns and remove the least import ones\n",
        "- Removed redundant columns\n",
        "- Deal with out-of-domain data issues by filtering our data set to try and get our training and validation set to have\n",
        "- Did partial dependence to see the impact one independent variable has on our dependent variable \n",
        "\n",
        "And we're able to do all of that from the starting off by just training a model and seeing where it could take us. These have been useful techniques in improving our understanding of the data, and we were able to make use of them by just jumping in and getting our bearings from where we landed. We literally modeled first, and asked questions later (and then modeled again some more). Having a bias towards action, is a good attitude to have when in deep learning. \n"
      ],
      "id": "ddd5b63a"
    }
  ],
  "metadata": {
    "kernelspec": {
      "name": "python3",
      "language": "python",
      "display_name": "Python 3 (ipykernel)"
    }
  },
  "nbformat": 4,
  "nbformat_minor": 5
}